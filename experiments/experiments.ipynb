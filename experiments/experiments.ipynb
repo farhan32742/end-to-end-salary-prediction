{
 "cells": [
  {
   "cell_type": "code",
   "execution_count": null,
   "id": "f5720bff",
   "metadata": {},
   "outputs": [
    {
     "ename": "",
     "evalue": "",
     "output_type": "error",
     "traceback": [
      "\u001b[1;31mRunning cells with 'Python 3.12.8' requires the ipykernel package.\n",
      "\u001b[1;31m<a href='command:jupyter.createPythonEnvAndSelectController'>Create a Python Environment</a> with the required packages.\n",
      "\u001b[1;31mOr install 'ipykernel' using the command: 'c:/Users/DELL/AppData/Local/Programs/Python/Python312/python.exe -m pip install ipykernel -U --user --force-reinstall'"
     ]
    }
   ],
   "source": [
    "import numpy as np\n",
    "import pandas as pd\n",
    "import matplotlib.pyplot as plt\n",
    "import seaborn as sns"
   ]
  },
  {
   "cell_type": "code",
   "execution_count": 2,
   "id": "55e4fe48",
   "metadata": {},
   "outputs": [
    {
     "data": {
      "text/html": [
       "<div>\n",
       "<style scoped>\n",
       "    .dataframe tbody tr th:only-of-type {\n",
       "        vertical-align: middle;\n",
       "    }\n",
       "\n",
       "    .dataframe tbody tr th {\n",
       "        vertical-align: top;\n",
       "    }\n",
       "\n",
       "    .dataframe thead th {\n",
       "        text-align: right;\n",
       "    }\n",
       "</style>\n",
       "<table border=\"1\" class=\"dataframe\">\n",
       "  <thead>\n",
       "    <tr style=\"text-align: right;\">\n",
       "      <th></th>\n",
       "      <th>FIRST NAME</th>\n",
       "      <th>LAST NAME</th>\n",
       "      <th>SEX</th>\n",
       "      <th>DOJ</th>\n",
       "      <th>CURRENT DATE</th>\n",
       "      <th>DESIGNATION</th>\n",
       "      <th>AGE</th>\n",
       "      <th>SALARY</th>\n",
       "      <th>UNIT</th>\n",
       "      <th>LEAVES USED</th>\n",
       "      <th>LEAVES REMAINING</th>\n",
       "      <th>RATINGS</th>\n",
       "      <th>PAST EXP</th>\n",
       "    </tr>\n",
       "  </thead>\n",
       "  <tbody>\n",
       "    <tr>\n",
       "      <th>0</th>\n",
       "      <td>TOMASA</td>\n",
       "      <td>ARMEN</td>\n",
       "      <td>F</td>\n",
       "      <td>5-18-2014</td>\n",
       "      <td>01-07-2016</td>\n",
       "      <td>Analyst</td>\n",
       "      <td>21.0</td>\n",
       "      <td>44570</td>\n",
       "      <td>Finance</td>\n",
       "      <td>24.0</td>\n",
       "      <td>6.0</td>\n",
       "      <td>2.0</td>\n",
       "      <td>0</td>\n",
       "    </tr>\n",
       "    <tr>\n",
       "      <th>1</th>\n",
       "      <td>ANNIE</td>\n",
       "      <td>NaN</td>\n",
       "      <td>F</td>\n",
       "      <td>NaN</td>\n",
       "      <td>01-07-2016</td>\n",
       "      <td>Associate</td>\n",
       "      <td>NaN</td>\n",
       "      <td>89207</td>\n",
       "      <td>Web</td>\n",
       "      <td>NaN</td>\n",
       "      <td>13.0</td>\n",
       "      <td>NaN</td>\n",
       "      <td>7</td>\n",
       "    </tr>\n",
       "    <tr>\n",
       "      <th>2</th>\n",
       "      <td>OLIVE</td>\n",
       "      <td>ANCY</td>\n",
       "      <td>F</td>\n",
       "      <td>7-28-2014</td>\n",
       "      <td>01-07-2016</td>\n",
       "      <td>Analyst</td>\n",
       "      <td>21.0</td>\n",
       "      <td>40955</td>\n",
       "      <td>Finance</td>\n",
       "      <td>23.0</td>\n",
       "      <td>7.0</td>\n",
       "      <td>3.0</td>\n",
       "      <td>0</td>\n",
       "    </tr>\n",
       "    <tr>\n",
       "      <th>3</th>\n",
       "      <td>CHERRY</td>\n",
       "      <td>AQUILAR</td>\n",
       "      <td>F</td>\n",
       "      <td>04-03-2013</td>\n",
       "      <td>01-07-2016</td>\n",
       "      <td>Analyst</td>\n",
       "      <td>22.0</td>\n",
       "      <td>45550</td>\n",
       "      <td>IT</td>\n",
       "      <td>22.0</td>\n",
       "      <td>8.0</td>\n",
       "      <td>3.0</td>\n",
       "      <td>0</td>\n",
       "    </tr>\n",
       "    <tr>\n",
       "      <th>4</th>\n",
       "      <td>LEON</td>\n",
       "      <td>ABOULAHOUD</td>\n",
       "      <td>M</td>\n",
       "      <td>11-20-2014</td>\n",
       "      <td>01-07-2016</td>\n",
       "      <td>Analyst</td>\n",
       "      <td>NaN</td>\n",
       "      <td>43161</td>\n",
       "      <td>Operations</td>\n",
       "      <td>27.0</td>\n",
       "      <td>3.0</td>\n",
       "      <td>NaN</td>\n",
       "      <td>3</td>\n",
       "    </tr>\n",
       "  </tbody>\n",
       "</table>\n",
       "</div>"
      ],
      "text/plain": [
       "  FIRST NAME   LAST NAME SEX         DOJ CURRENT DATE DESIGNATION   AGE  \\\n",
       "0     TOMASA       ARMEN   F   5-18-2014   01-07-2016     Analyst  21.0   \n",
       "1      ANNIE         NaN   F         NaN   01-07-2016   Associate   NaN   \n",
       "2      OLIVE        ANCY   F   7-28-2014   01-07-2016     Analyst  21.0   \n",
       "3     CHERRY     AQUILAR   F  04-03-2013   01-07-2016     Analyst  22.0   \n",
       "4       LEON  ABOULAHOUD   M  11-20-2014   01-07-2016     Analyst   NaN   \n",
       "\n",
       "   SALARY        UNIT  LEAVES USED  LEAVES REMAINING  RATINGS  PAST EXP  \n",
       "0   44570     Finance         24.0               6.0      2.0         0  \n",
       "1   89207         Web          NaN              13.0      NaN         7  \n",
       "2   40955     Finance         23.0               7.0      3.0         0  \n",
       "3   45550          IT         22.0               8.0      3.0         0  \n",
       "4   43161  Operations         27.0               3.0      NaN         3  "
      ]
     },
     "execution_count": 2,
     "metadata": {},
     "output_type": "execute_result"
    }
   ],
   "source": [
    "df=pd.read_csv(\"Salary Prediction of Data Professions.csv\")\n",
    "df.head()"
   ]
  },
  {
   "cell_type": "code",
   "execution_count": 3,
   "id": "f0eb00fc",
   "metadata": {},
   "outputs": [
    {
     "data": {
      "text/plain": [
       "Index(['FIRST NAME', 'LAST NAME', 'SEX', 'DOJ', 'CURRENT DATE', 'DESIGNATION',\n",
       "       'AGE', 'SALARY', 'UNIT', 'LEAVES USED', 'LEAVES REMAINING', 'RATINGS',\n",
       "       'PAST EXP'],\n",
       "      dtype='object')"
      ]
     },
     "execution_count": 3,
     "metadata": {},
     "output_type": "execute_result"
    }
   ],
   "source": [
    "df.columns"
   ]
  },
  {
   "cell_type": "code",
   "execution_count": 4,
   "id": "491db6d7",
   "metadata": {},
   "outputs": [
    {
     "name": "stdout",
     "output_type": "stream",
     "text": [
      "<class 'pandas.core.frame.DataFrame'>\n",
      "RangeIndex: 2639 entries, 0 to 2638\n",
      "Data columns (total 13 columns):\n",
      " #   Column            Non-Null Count  Dtype  \n",
      "---  ------            --------------  -----  \n",
      " 0   FIRST NAME        2639 non-null   object \n",
      " 1   LAST NAME         2637 non-null   object \n",
      " 2   SEX               2639 non-null   object \n",
      " 3   DOJ               2638 non-null   object \n",
      " 4   CURRENT DATE      2639 non-null   object \n",
      " 5   DESIGNATION       2639 non-null   object \n",
      " 6   AGE               2636 non-null   float64\n",
      " 7   SALARY            2639 non-null   int64  \n",
      " 8   UNIT              2639 non-null   object \n",
      " 9   LEAVES USED       2636 non-null   float64\n",
      " 10  LEAVES REMAINING  2637 non-null   float64\n",
      " 11  RATINGS           2637 non-null   float64\n",
      " 12  PAST EXP          2639 non-null   int64  \n",
      "dtypes: float64(4), int64(2), object(7)\n",
      "memory usage: 268.1+ KB\n"
     ]
    }
   ],
   "source": [
    "df.info()"
   ]
  },
  {
   "cell_type": "code",
   "execution_count": 5,
   "id": "0ace6a53",
   "metadata": {},
   "outputs": [
    {
     "data": {
      "text/plain": [
       "FIRST NAME          0\n",
       "LAST NAME           2\n",
       "SEX                 0\n",
       "DOJ                 1\n",
       "CURRENT DATE        0\n",
       "DESIGNATION         0\n",
       "AGE                 3\n",
       "SALARY              0\n",
       "UNIT                0\n",
       "LEAVES USED         3\n",
       "LEAVES REMAINING    2\n",
       "RATINGS             2\n",
       "PAST EXP            0\n",
       "dtype: int64"
      ]
     },
     "execution_count": 5,
     "metadata": {},
     "output_type": "execute_result"
    }
   ],
   "source": [
    "df.isnull().sum()"
   ]
  },
  {
   "cell_type": "code",
   "execution_count": 6,
   "id": "337b691d",
   "metadata": {},
   "outputs": [
    {
     "name": "stdout",
     "output_type": "stream",
     "text": [
      "<class 'pandas.core.frame.DataFrame'>\n",
      "Index: 2631 entries, 0 to 2638\n",
      "Data columns (total 13 columns):\n",
      " #   Column            Non-Null Count  Dtype  \n",
      "---  ------            --------------  -----  \n",
      " 0   FIRST NAME        2631 non-null   object \n",
      " 1   LAST NAME         2631 non-null   object \n",
      " 2   SEX               2631 non-null   object \n",
      " 3   DOJ               2631 non-null   object \n",
      " 4   CURRENT DATE      2631 non-null   object \n",
      " 5   DESIGNATION       2631 non-null   object \n",
      " 6   AGE               2631 non-null   float64\n",
      " 7   SALARY            2631 non-null   int64  \n",
      " 8   UNIT              2631 non-null   object \n",
      " 9   LEAVES USED       2631 non-null   float64\n",
      " 10  LEAVES REMAINING  2631 non-null   float64\n",
      " 11  RATINGS           2631 non-null   float64\n",
      " 12  PAST EXP          2631 non-null   int64  \n",
      "dtypes: float64(4), int64(2), object(7)\n",
      "memory usage: 287.8+ KB\n"
     ]
    }
   ],
   "source": [
    "df.dropna(inplace=True)\n",
    "df.info()"
   ]
  },
  {
   "cell_type": "code",
   "execution_count": 7,
   "id": "0124eada",
   "metadata": {},
   "outputs": [],
   "source": [
    "df['DOJ']=pd.to_datetime(df['DOJ'])\n",
    "df['CURRENT DATE']=pd.to_datetime(df['CURRENT DATE'])\n",
    "df['Total_time_in_company']=(df['CURRENT DATE']-df['DOJ']).dt.days/30\n",
    "df['Total_time_in_company']=df['Total_time_in_company'].astype(int)"
   ]
  },
  {
   "cell_type": "code",
   "execution_count": 8,
   "id": "ec08af60",
   "metadata": {},
   "outputs": [
    {
     "data": {
      "text/html": [
       "<div>\n",
       "<style scoped>\n",
       "    .dataframe tbody tr th:only-of-type {\n",
       "        vertical-align: middle;\n",
       "    }\n",
       "\n",
       "    .dataframe tbody tr th {\n",
       "        vertical-align: top;\n",
       "    }\n",
       "\n",
       "    .dataframe thead th {\n",
       "        text-align: right;\n",
       "    }\n",
       "</style>\n",
       "<table border=\"1\" class=\"dataframe\">\n",
       "  <thead>\n",
       "    <tr style=\"text-align: right;\">\n",
       "      <th></th>\n",
       "      <th>FIRST NAME</th>\n",
       "      <th>LAST NAME</th>\n",
       "      <th>SEX</th>\n",
       "      <th>DOJ</th>\n",
       "      <th>CURRENT DATE</th>\n",
       "      <th>DESIGNATION</th>\n",
       "      <th>AGE</th>\n",
       "      <th>SALARY</th>\n",
       "      <th>UNIT</th>\n",
       "      <th>LEAVES USED</th>\n",
       "      <th>LEAVES REMAINING</th>\n",
       "      <th>RATINGS</th>\n",
       "      <th>PAST EXP</th>\n",
       "      <th>Total_time_in_company</th>\n",
       "    </tr>\n",
       "  </thead>\n",
       "  <tbody>\n",
       "    <tr>\n",
       "      <th>0</th>\n",
       "      <td>TOMASA</td>\n",
       "      <td>ARMEN</td>\n",
       "      <td>F</td>\n",
       "      <td>2014-05-18</td>\n",
       "      <td>2016-01-07</td>\n",
       "      <td>Analyst</td>\n",
       "      <td>21.0</td>\n",
       "      <td>44570</td>\n",
       "      <td>Finance</td>\n",
       "      <td>24.0</td>\n",
       "      <td>6.0</td>\n",
       "      <td>2.0</td>\n",
       "      <td>0</td>\n",
       "      <td>19</td>\n",
       "    </tr>\n",
       "    <tr>\n",
       "      <th>2</th>\n",
       "      <td>OLIVE</td>\n",
       "      <td>ANCY</td>\n",
       "      <td>F</td>\n",
       "      <td>2014-07-28</td>\n",
       "      <td>2016-01-07</td>\n",
       "      <td>Analyst</td>\n",
       "      <td>21.0</td>\n",
       "      <td>40955</td>\n",
       "      <td>Finance</td>\n",
       "      <td>23.0</td>\n",
       "      <td>7.0</td>\n",
       "      <td>3.0</td>\n",
       "      <td>0</td>\n",
       "      <td>17</td>\n",
       "    </tr>\n",
       "    <tr>\n",
       "      <th>3</th>\n",
       "      <td>CHERRY</td>\n",
       "      <td>AQUILAR</td>\n",
       "      <td>F</td>\n",
       "      <td>2013-04-03</td>\n",
       "      <td>2016-01-07</td>\n",
       "      <td>Analyst</td>\n",
       "      <td>22.0</td>\n",
       "      <td>45550</td>\n",
       "      <td>IT</td>\n",
       "      <td>22.0</td>\n",
       "      <td>8.0</td>\n",
       "      <td>3.0</td>\n",
       "      <td>0</td>\n",
       "      <td>33</td>\n",
       "    </tr>\n",
       "    <tr>\n",
       "      <th>6</th>\n",
       "      <td>ELLIOT</td>\n",
       "      <td>AGULAR</td>\n",
       "      <td>M</td>\n",
       "      <td>2013-09-02</td>\n",
       "      <td>2016-01-07</td>\n",
       "      <td>Analyst</td>\n",
       "      <td>22.0</td>\n",
       "      <td>40339</td>\n",
       "      <td>Marketing</td>\n",
       "      <td>19.0</td>\n",
       "      <td>11.0</td>\n",
       "      <td>5.0</td>\n",
       "      <td>0</td>\n",
       "      <td>28</td>\n",
       "    </tr>\n",
       "    <tr>\n",
       "      <th>8</th>\n",
       "      <td>KATHY</td>\n",
       "      <td>ALSOP</td>\n",
       "      <td>F</td>\n",
       "      <td>2014-06-29</td>\n",
       "      <td>2016-01-07</td>\n",
       "      <td>Senior Analyst</td>\n",
       "      <td>28.0</td>\n",
       "      <td>63478</td>\n",
       "      <td>Operations</td>\n",
       "      <td>20.0</td>\n",
       "      <td>10.0</td>\n",
       "      <td>3.0</td>\n",
       "      <td>1</td>\n",
       "      <td>18</td>\n",
       "    </tr>\n",
       "  </tbody>\n",
       "</table>\n",
       "</div>"
      ],
      "text/plain": [
       "  FIRST NAME LAST NAME SEX        DOJ CURRENT DATE     DESIGNATION   AGE  \\\n",
       "0     TOMASA     ARMEN   F 2014-05-18   2016-01-07         Analyst  21.0   \n",
       "2      OLIVE      ANCY   F 2014-07-28   2016-01-07         Analyst  21.0   \n",
       "3     CHERRY   AQUILAR   F 2013-04-03   2016-01-07         Analyst  22.0   \n",
       "6     ELLIOT    AGULAR   M 2013-09-02   2016-01-07         Analyst  22.0   \n",
       "8      KATHY     ALSOP   F 2014-06-29   2016-01-07  Senior Analyst  28.0   \n",
       "\n",
       "   SALARY        UNIT  LEAVES USED  LEAVES REMAINING  RATINGS  PAST EXP  \\\n",
       "0   44570     Finance         24.0               6.0      2.0         0   \n",
       "2   40955     Finance         23.0               7.0      3.0         0   \n",
       "3   45550          IT         22.0               8.0      3.0         0   \n",
       "6   40339   Marketing         19.0              11.0      5.0         0   \n",
       "8   63478  Operations         20.0              10.0      3.0         1   \n",
       "\n",
       "   Total_time_in_company  \n",
       "0                     19  \n",
       "2                     17  \n",
       "3                     33  \n",
       "6                     28  \n",
       "8                     18  "
      ]
     },
     "execution_count": 8,
     "metadata": {},
     "output_type": "execute_result"
    }
   ],
   "source": [
    "df.head()"
   ]
  },
  {
   "cell_type": "code",
   "execution_count": 9,
   "id": "35d50bad",
   "metadata": {},
   "outputs": [],
   "source": [
    "#now droping the joining date and current date\n",
    "df.drop(['CURRENT DATE','DOJ'],axis=1,inplace=True)"
   ]
  },
  {
   "cell_type": "code",
   "execution_count": 10,
   "id": "26e9870c",
   "metadata": {},
   "outputs": [
    {
     "name": "stdout",
     "output_type": "stream",
     "text": [
      "<class 'pandas.core.frame.DataFrame'>\n",
      "Index: 2631 entries, 0 to 2638\n",
      "Data columns (total 12 columns):\n",
      " #   Column                 Non-Null Count  Dtype  \n",
      "---  ------                 --------------  -----  \n",
      " 0   FIRST NAME             2631 non-null   object \n",
      " 1   LAST NAME              2631 non-null   object \n",
      " 2   SEX                    2631 non-null   object \n",
      " 3   DESIGNATION            2631 non-null   object \n",
      " 4   AGE                    2631 non-null   float64\n",
      " 5   SALARY                 2631 non-null   int64  \n",
      " 6   UNIT                   2631 non-null   object \n",
      " 7   LEAVES USED            2631 non-null   float64\n",
      " 8   LEAVES REMAINING       2631 non-null   float64\n",
      " 9   RATINGS                2631 non-null   float64\n",
      " 10  PAST EXP               2631 non-null   int64  \n",
      " 11  Total_time_in_company  2631 non-null   int32  \n",
      "dtypes: float64(4), int32(1), int64(2), object(5)\n",
      "memory usage: 256.9+ KB\n"
     ]
    }
   ],
   "source": [
    "\n",
    "df.info()"
   ]
  },
  {
   "cell_type": "code",
   "execution_count": 11,
   "id": "97aca016",
   "metadata": {},
   "outputs": [
    {
     "data": {
      "text/html": [
       "<div>\n",
       "<style scoped>\n",
       "    .dataframe tbody tr th:only-of-type {\n",
       "        vertical-align: middle;\n",
       "    }\n",
       "\n",
       "    .dataframe tbody tr th {\n",
       "        vertical-align: top;\n",
       "    }\n",
       "\n",
       "    .dataframe thead th {\n",
       "        text-align: right;\n",
       "    }\n",
       "</style>\n",
       "<table border=\"1\" class=\"dataframe\">\n",
       "  <thead>\n",
       "    <tr style=\"text-align: right;\">\n",
       "      <th></th>\n",
       "      <th>DESIGNATION</th>\n",
       "      <th>SEX</th>\n",
       "    </tr>\n",
       "  </thead>\n",
       "  <tbody>\n",
       "    <tr>\n",
       "      <th>0</th>\n",
       "      <td>Analyst</td>\n",
       "      <td>1943</td>\n",
       "    </tr>\n",
       "    <tr>\n",
       "      <th>1</th>\n",
       "      <td>Associate</td>\n",
       "      <td>158</td>\n",
       "    </tr>\n",
       "    <tr>\n",
       "      <th>2</th>\n",
       "      <td>Director</td>\n",
       "      <td>32</td>\n",
       "    </tr>\n",
       "    <tr>\n",
       "      <th>3</th>\n",
       "      <td>Manager</td>\n",
       "      <td>81</td>\n",
       "    </tr>\n",
       "    <tr>\n",
       "      <th>4</th>\n",
       "      <td>Senior Analyst</td>\n",
       "      <td>356</td>\n",
       "    </tr>\n",
       "    <tr>\n",
       "      <th>5</th>\n",
       "      <td>Senior Manager</td>\n",
       "      <td>61</td>\n",
       "    </tr>\n",
       "  </tbody>\n",
       "</table>\n",
       "</div>"
      ],
      "text/plain": [
       "      DESIGNATION   SEX\n",
       "0         Analyst  1943\n",
       "1       Associate   158\n",
       "2        Director    32\n",
       "3         Manager    81\n",
       "4  Senior Analyst   356\n",
       "5  Senior Manager    61"
      ]
     },
     "execution_count": 11,
     "metadata": {},
     "output_type": "execute_result"
    }
   ],
   "source": [
    "total_profassionalist = df.groupby('DESIGNATION').agg({'SEX':'count'}).reset_index()\n",
    "total_profassionalist"
   ]
  },
  {
   "cell_type": "code",
   "execution_count": 12,
   "id": "00713aaa",
   "metadata": {},
   "outputs": [
    {
     "name": "stderr",
     "output_type": "stream",
     "text": [
      "C:\\Users\\PC\\AppData\\Local\\Programs\\Python\\Python310\\lib\\site-packages\\seaborn\\_oldcore.py:1498: FutureWarning: is_categorical_dtype is deprecated and will be removed in a future version. Use isinstance(dtype, CategoricalDtype) instead\n",
      "  if pd.api.types.is_categorical_dtype(vector):\n",
      "C:\\Users\\PC\\AppData\\Local\\Programs\\Python\\Python310\\lib\\site-packages\\seaborn\\_oldcore.py:1498: FutureWarning: is_categorical_dtype is deprecated and will be removed in a future version. Use isinstance(dtype, CategoricalDtype) instead\n",
      "  if pd.api.types.is_categorical_dtype(vector):\n",
      "C:\\Users\\PC\\AppData\\Local\\Programs\\Python\\Python310\\lib\\site-packages\\seaborn\\_oldcore.py:1498: FutureWarning: is_categorical_dtype is deprecated and will be removed in a future version. Use isinstance(dtype, CategoricalDtype) instead\n",
      "  if pd.api.types.is_categorical_dtype(vector):\n"
     ]
    },
    {
     "data": {
      "image/png": "[encoded data removed]",
      "text/plain": [
       "<Figure size 1500x1000 with 1 Axes>"
      ]
     },
     "metadata": {},
     "output_type": "display_data"
    }
   ],
   "source": [
    "plt.figure(figsize=(15,10))\n",
    "sns.barplot(data=total_profassionalist,x='DESIGNATION',y='SEX')\n",
    "\n",
    "plt.show()"
   ]
  },
  {
   "cell_type": "code",
   "execution_count": 13,
   "id": "e047b7a6",
   "metadata": {},
   "outputs": [
    {
     "data": {
      "text/plain": [
       "Index(['FIRST NAME', 'LAST NAME', 'SEX', 'DESIGNATION', 'AGE', 'SALARY',\n",
       "       'UNIT', 'LEAVES USED', 'LEAVES REMAINING', 'RATINGS', 'PAST EXP',\n",
       "       'Total_time_in_company'],\n",
       "      dtype='object')"
      ]
     },
     "execution_count": 13,
     "metadata": {},
     "output_type": "execute_result"
    }
   ],
   "source": [
    "df.columns"
   ]
  },
  {
   "cell_type": "code",
   "execution_count": 14,
   "id": "80d03c34",
   "metadata": {},
   "outputs": [
    {
     "data": {
      "text/html": [
       "<div>\n",
       "<style scoped>\n",
       "    .dataframe tbody tr th:only-of-type {\n",
       "        vertical-align: middle;\n",
       "    }\n",
       "\n",
       "    .dataframe tbody tr th {\n",
       "        vertical-align: top;\n",
       "    }\n",
       "\n",
       "    .dataframe thead th {\n",
       "        text-align: right;\n",
       "    }\n",
       "</style>\n",
       "<table border=\"1\" class=\"dataframe\">\n",
       "  <thead>\n",
       "    <tr style=\"text-align: right;\">\n",
       "      <th></th>\n",
       "      <th>DESIGNATION</th>\n",
       "      <th>UNIT</th>\n",
       "      <th>SALARY</th>\n",
       "    </tr>\n",
       "  </thead>\n",
       "  <tbody>\n",
       "    <tr>\n",
       "      <th>0</th>\n",
       "      <td>Analyst</td>\n",
       "      <td>Finance</td>\n",
       "      <td>49953</td>\n",
       "    </tr>\n",
       "    <tr>\n",
       "      <th>1</th>\n",
       "      <td>Analyst</td>\n",
       "      <td>IT</td>\n",
       "      <td>49980</td>\n",
       "    </tr>\n",
       "    <tr>\n",
       "      <th>2</th>\n",
       "      <td>Analyst</td>\n",
       "      <td>Management</td>\n",
       "      <td>49904</td>\n",
       "    </tr>\n",
       "    <tr>\n",
       "      <th>3</th>\n",
       "      <td>Analyst</td>\n",
       "      <td>Marketing</td>\n",
       "      <td>49974</td>\n",
       "    </tr>\n",
       "    <tr>\n",
       "      <th>4</th>\n",
       "      <td>Analyst</td>\n",
       "      <td>Operations</td>\n",
       "      <td>49942</td>\n",
       "    </tr>\n",
       "    <tr>\n",
       "      <th>5</th>\n",
       "      <td>Analyst</td>\n",
       "      <td>Web</td>\n",
       "      <td>49976</td>\n",
       "    </tr>\n",
       "    <tr>\n",
       "      <th>6</th>\n",
       "      <td>Associate</td>\n",
       "      <td>Finance</td>\n",
       "      <td>99311</td>\n",
       "    </tr>\n",
       "    <tr>\n",
       "      <th>7</th>\n",
       "      <td>Associate</td>\n",
       "      <td>IT</td>\n",
       "      <td>97830</td>\n",
       "    </tr>\n",
       "    <tr>\n",
       "      <th>8</th>\n",
       "      <td>Associate</td>\n",
       "      <td>Management</td>\n",
       "      <td>99416</td>\n",
       "    </tr>\n",
       "    <tr>\n",
       "      <th>9</th>\n",
       "      <td>Associate</td>\n",
       "      <td>Marketing</td>\n",
       "      <td>99603</td>\n",
       "    </tr>\n",
       "    <tr>\n",
       "      <th>10</th>\n",
       "      <td>Associate</td>\n",
       "      <td>Operations</td>\n",
       "      <td>98715</td>\n",
       "    </tr>\n",
       "    <tr>\n",
       "      <th>11</th>\n",
       "      <td>Associate</td>\n",
       "      <td>Web</td>\n",
       "      <td>99521</td>\n",
       "    </tr>\n",
       "    <tr>\n",
       "      <th>12</th>\n",
       "      <td>Director</td>\n",
       "      <td>Finance</td>\n",
       "      <td>375647</td>\n",
       "    </tr>\n",
       "    <tr>\n",
       "      <th>13</th>\n",
       "      <td>Director</td>\n",
       "      <td>IT</td>\n",
       "      <td>355337</td>\n",
       "    </tr>\n",
       "    <tr>\n",
       "      <th>14</th>\n",
       "      <td>Director</td>\n",
       "      <td>Management</td>\n",
       "      <td>368887</td>\n",
       "    </tr>\n",
       "    <tr>\n",
       "      <th>15</th>\n",
       "      <td>Director</td>\n",
       "      <td>Marketing</td>\n",
       "      <td>388112</td>\n",
       "    </tr>\n",
       "    <tr>\n",
       "      <th>16</th>\n",
       "      <td>Director</td>\n",
       "      <td>Operations</td>\n",
       "      <td>301872</td>\n",
       "    </tr>\n",
       "    <tr>\n",
       "      <th>17</th>\n",
       "      <td>Director</td>\n",
       "      <td>Web</td>\n",
       "      <td>324129</td>\n",
       "    </tr>\n",
       "    <tr>\n",
       "      <th>18</th>\n",
       "      <td>Manager</td>\n",
       "      <td>Finance</td>\n",
       "      <td>148273</td>\n",
       "    </tr>\n",
       "    <tr>\n",
       "      <th>19</th>\n",
       "      <td>Manager</td>\n",
       "      <td>IT</td>\n",
       "      <td>144573</td>\n",
       "    </tr>\n",
       "    <tr>\n",
       "      <th>20</th>\n",
       "      <td>Manager</td>\n",
       "      <td>Management</td>\n",
       "      <td>147560</td>\n",
       "    </tr>\n",
       "    <tr>\n",
       "      <th>21</th>\n",
       "      <td>Manager</td>\n",
       "      <td>Marketing</td>\n",
       "      <td>148890</td>\n",
       "    </tr>\n",
       "    <tr>\n",
       "      <th>22</th>\n",
       "      <td>Manager</td>\n",
       "      <td>Operations</td>\n",
       "      <td>144095</td>\n",
       "    </tr>\n",
       "    <tr>\n",
       "      <th>23</th>\n",
       "      <td>Manager</td>\n",
       "      <td>Web</td>\n",
       "      <td>148606</td>\n",
       "    </tr>\n",
       "    <tr>\n",
       "      <th>24</th>\n",
       "      <td>Senior Analyst</td>\n",
       "      <td>Finance</td>\n",
       "      <td>69851</td>\n",
       "    </tr>\n",
       "    <tr>\n",
       "      <th>25</th>\n",
       "      <td>Senior Analyst</td>\n",
       "      <td>IT</td>\n",
       "      <td>69590</td>\n",
       "    </tr>\n",
       "    <tr>\n",
       "      <th>26</th>\n",
       "      <td>Senior Analyst</td>\n",
       "      <td>Management</td>\n",
       "      <td>69877</td>\n",
       "    </tr>\n",
       "    <tr>\n",
       "      <th>27</th>\n",
       "      <td>Senior Analyst</td>\n",
       "      <td>Marketing</td>\n",
       "      <td>69966</td>\n",
       "    </tr>\n",
       "    <tr>\n",
       "      <th>28</th>\n",
       "      <td>Senior Analyst</td>\n",
       "      <td>Operations</td>\n",
       "      <td>69329</td>\n",
       "    </tr>\n",
       "    <tr>\n",
       "      <th>29</th>\n",
       "      <td>Senior Analyst</td>\n",
       "      <td>Web</td>\n",
       "      <td>69772</td>\n",
       "    </tr>\n",
       "    <tr>\n",
       "      <th>30</th>\n",
       "      <td>Senior Manager</td>\n",
       "      <td>Finance</td>\n",
       "      <td>195985</td>\n",
       "    </tr>\n",
       "    <tr>\n",
       "      <th>31</th>\n",
       "      <td>Senior Manager</td>\n",
       "      <td>IT</td>\n",
       "      <td>199060</td>\n",
       "    </tr>\n",
       "    <tr>\n",
       "      <th>32</th>\n",
       "      <td>Senior Manager</td>\n",
       "      <td>Management</td>\n",
       "      <td>197246</td>\n",
       "    </tr>\n",
       "    <tr>\n",
       "      <th>33</th>\n",
       "      <td>Senior Manager</td>\n",
       "      <td>Marketing</td>\n",
       "      <td>199577</td>\n",
       "    </tr>\n",
       "    <tr>\n",
       "      <th>34</th>\n",
       "      <td>Senior Manager</td>\n",
       "      <td>Operations</td>\n",
       "      <td>198814</td>\n",
       "    </tr>\n",
       "    <tr>\n",
       "      <th>35</th>\n",
       "      <td>Senior Manager</td>\n",
       "      <td>Web</td>\n",
       "      <td>187837</td>\n",
       "    </tr>\n",
       "  </tbody>\n",
       "</table>\n",
       "</div>"
      ],
      "text/plain": [
       "       DESIGNATION        UNIT  SALARY\n",
       "0          Analyst     Finance   49953\n",
       "1          Analyst          IT   49980\n",
       "2          Analyst  Management   49904\n",
       "3          Analyst   Marketing   49974\n",
       "4          Analyst  Operations   49942\n",
       "5          Analyst         Web   49976\n",
       "6        Associate     Finance   99311\n",
       "7        Associate          IT   97830\n",
       "8        Associate  Management   99416\n",
       "9        Associate   Marketing   99603\n",
       "10       Associate  Operations   98715\n",
       "11       Associate         Web   99521\n",
       "12        Director     Finance  375647\n",
       "13        Director          IT  355337\n",
       "14        Director  Management  368887\n",
       "15        Director   Marketing  388112\n",
       "16        Director  Operations  301872\n",
       "17        Director         Web  324129\n",
       "18         Manager     Finance  148273\n",
       "19         Manager          IT  144573\n",
       "20         Manager  Management  147560\n",
       "21         Manager   Marketing  148890\n",
       "22         Manager  Operations  144095\n",
       "23         Manager         Web  148606\n",
       "24  Senior Analyst     Finance   69851\n",
       "25  Senior Analyst          IT   69590\n",
       "26  Senior Analyst  Management   69877\n",
       "27  Senior Analyst   Marketing   69966\n",
       "28  Senior Analyst  Operations   69329\n",
       "29  Senior Analyst         Web   69772\n",
       "30  Senior Manager     Finance  195985\n",
       "31  Senior Manager          IT  199060\n",
       "32  Senior Manager  Management  197246\n",
       "33  Senior Manager   Marketing  199577\n",
       "34  Senior Manager  Operations  198814\n",
       "35  Senior Manager         Web  187837"
      ]
     },
     "execution_count": 14,
     "metadata": {},
     "output_type": "execute_result"
    }
   ],
   "source": [
    "total_profassionalist_depat = df.groupby(['DESIGNATION','UNIT']).agg({'SALARY':'max'}).reset_index()\n",
    "total_profassionalist_depat"
   ]
  },
  {
   "cell_type": "code",
   "execution_count": 15,
   "id": "3968966f",
   "metadata": {},
   "outputs": [
    {
     "name": "stderr",
     "output_type": "stream",
     "text": [
      "C:\\Users\\PC\\AppData\\Local\\Programs\\Python\\Python310\\lib\\site-packages\\seaborn\\_oldcore.py:1498: FutureWarning: is_categorical_dtype is deprecated and will be removed in a future version. Use isinstance(dtype, CategoricalDtype) instead\n",
      "  if pd.api.types.is_categorical_dtype(vector):\n",
      "C:\\Users\\PC\\AppData\\Local\\Programs\\Python\\Python310\\lib\\site-packages\\seaborn\\_oldcore.py:1498: FutureWarning: is_categorical_dtype is deprecated and will be removed in a future version. Use isinstance(dtype, CategoricalDtype) instead\n",
      "  if pd.api.types.is_categorical_dtype(vector):\n",
      "C:\\Users\\PC\\AppData\\Local\\Programs\\Python\\Python310\\lib\\site-packages\\seaborn\\_oldcore.py:1498: FutureWarning: is_categorical_dtype is deprecated and will be removed in a future version. Use isinstance(dtype, CategoricalDtype) instead\n",
      "  if pd.api.types.is_categorical_dtype(vector):\n",
      "C:\\Users\\PC\\AppData\\Local\\Programs\\Python\\Python310\\lib\\site-packages\\seaborn\\_oldcore.py:1498: FutureWarning: is_categorical_dtype is deprecated and will be removed in a future version. Use isinstance(dtype, CategoricalDtype) instead\n",
      "  if pd.api.types.is_categorical_dtype(vector):\n"
     ]
    },
    {
     "data": {
      "image/png": "[encoded data removed]",
      "text/plain": [
       "<Figure size 1500x1000 with 1 Axes>"
      ]
     },
     "metadata": {},
     "output_type": "display_data"
    }
   ],
   "source": [
    "plt.figure(figsize=(15,10))\n",
    "ax=sns.barplot(data=total_profassionalist_depat,x='DESIGNATION',y='SALARY',hue='UNIT')\n",
    "\n",
    "plt.show()"
   ]
  },
  {
   "cell_type": "code",
   "execution_count": 16,
   "id": "735328c2",
   "metadata": {},
   "outputs": [
    {
     "data": {
      "text/plain": [
       "Index(['FIRST NAME', 'LAST NAME', 'SEX', 'DESIGNATION', 'AGE', 'SALARY',\n",
       "       'UNIT', 'LEAVES USED', 'LEAVES REMAINING', 'RATINGS', 'PAST EXP',\n",
       "       'Total_time_in_company'],\n",
       "      dtype='object')"
      ]
     },
     "execution_count": 16,
     "metadata": {},
     "output_type": "execute_result"
    }
   ],
   "source": [
    "df.columns"
   ]
  },
  {
   "cell_type": "code",
   "execution_count": 17,
   "id": "d5811169",
   "metadata": {},
   "outputs": [],
   "source": [
    "data = df.groupby(['DESIGNATION','AGE','UNIT','PAST EXP','Total_time_in_company']).agg({'SALARY':'max','RATINGS':'max'}).reset_index()"
   ]
  },
  {
   "cell_type": "code",
   "execution_count": 18,
   "id": "1f8b6ab4",
   "metadata": {},
   "outputs": [
    {
     "data": {
      "text/html": [
       "<div>\n",
       "<style scoped>\n",
       "    .dataframe tbody tr th:only-of-type {\n",
       "        vertical-align: middle;\n",
       "    }\n",
       "\n",
       "    .dataframe tbody tr th {\n",
       "        vertical-align: top;\n",
       "    }\n",
       "\n",
       "    .dataframe thead th {\n",
       "        text-align: right;\n",
       "    }\n",
       "</style>\n",
       "<table border=\"1\" class=\"dataframe\">\n",
       "  <thead>\n",
       "    <tr style=\"text-align: right;\">\n",
       "      <th></th>\n",
       "      <th>DESIGNATION</th>\n",
       "      <th>AGE</th>\n",
       "      <th>UNIT</th>\n",
       "      <th>PAST EXP</th>\n",
       "      <th>Total_time_in_company</th>\n",
       "      <th>SALARY</th>\n",
       "      <th>RATINGS</th>\n",
       "    </tr>\n",
       "  </thead>\n",
       "  <tbody>\n",
       "    <tr>\n",
       "      <th>882</th>\n",
       "      <td>Director</td>\n",
       "      <td>42.0</td>\n",
       "      <td>Marketing</td>\n",
       "      <td>18</td>\n",
       "      <td>35</td>\n",
       "      <td>388112</td>\n",
       "      <td>2.0</td>\n",
       "    </tr>\n",
       "    <tr>\n",
       "      <th>878</th>\n",
       "      <td>Director</td>\n",
       "      <td>41.0</td>\n",
       "      <td>Finance</td>\n",
       "      <td>14</td>\n",
       "      <td>77</td>\n",
       "      <td>375647</td>\n",
       "      <td>5.0</td>\n",
       "    </tr>\n",
       "    <tr>\n",
       "      <th>868</th>\n",
       "      <td>Director</td>\n",
       "      <td>39.0</td>\n",
       "      <td>Management</td>\n",
       "      <td>13</td>\n",
       "      <td>17</td>\n",
       "      <td>368887</td>\n",
       "      <td>3.0</td>\n",
       "    </tr>\n",
       "    <tr>\n",
       "      <th>869</th>\n",
       "      <td>Director</td>\n",
       "      <td>39.0</td>\n",
       "      <td>Marketing</td>\n",
       "      <td>13</td>\n",
       "      <td>37</td>\n",
       "      <td>366063</td>\n",
       "      <td>3.0</td>\n",
       "    </tr>\n",
       "    <tr>\n",
       "      <th>879</th>\n",
       "      <td>Director</td>\n",
       "      <td>41.0</td>\n",
       "      <td>IT</td>\n",
       "      <td>12</td>\n",
       "      <td>62</td>\n",
       "      <td>355337</td>\n",
       "      <td>3.0</td>\n",
       "    </tr>\n",
       "    <tr>\n",
       "      <th>891</th>\n",
       "      <td>Director</td>\n",
       "      <td>45.0</td>\n",
       "      <td>Finance</td>\n",
       "      <td>19</td>\n",
       "      <td>40</td>\n",
       "      <td>324783</td>\n",
       "      <td>5.0</td>\n",
       "    </tr>\n",
       "    <tr>\n",
       "      <th>885</th>\n",
       "      <td>Director</td>\n",
       "      <td>42.0</td>\n",
       "      <td>Web</td>\n",
       "      <td>16</td>\n",
       "      <td>11</td>\n",
       "      <td>324129</td>\n",
       "      <td>3.0</td>\n",
       "    </tr>\n",
       "    <tr>\n",
       "      <th>881</th>\n",
       "      <td>Director</td>\n",
       "      <td>41.0</td>\n",
       "      <td>Marketing</td>\n",
       "      <td>10</td>\n",
       "      <td>67</td>\n",
       "      <td>323196</td>\n",
       "      <td>3.0</td>\n",
       "    </tr>\n",
       "    <tr>\n",
       "      <th>893</th>\n",
       "      <td>Director</td>\n",
       "      <td>45.0</td>\n",
       "      <td>Management</td>\n",
       "      <td>18</td>\n",
       "      <td>42</td>\n",
       "      <td>320148</td>\n",
       "      <td>2.0</td>\n",
       "    </tr>\n",
       "    <tr>\n",
       "      <th>874</th>\n",
       "      <td>Director</td>\n",
       "      <td>40.0</td>\n",
       "      <td>IT</td>\n",
       "      <td>15</td>\n",
       "      <td>14</td>\n",
       "      <td>319742</td>\n",
       "      <td>4.0</td>\n",
       "    </tr>\n",
       "  </tbody>\n",
       "</table>\n",
       "</div>"
      ],
      "text/plain": [
       "    DESIGNATION   AGE        UNIT  PAST EXP  Total_time_in_company  SALARY  \\\n",
       "882    Director  42.0   Marketing        18                     35  388112   \n",
       "878    Director  41.0     Finance        14                     77  375647   \n",
       "868    Director  39.0  Management        13                     17  368887   \n",
       "869    Director  39.0   Marketing        13                     37  366063   \n",
       "879    Director  41.0          IT        12                     62  355337   \n",
       "891    Director  45.0     Finance        19                     40  324783   \n",
       "885    Director  42.0         Web        16                     11  324129   \n",
       "881    Director  41.0   Marketing        10                     67  323196   \n",
       "893    Director  45.0  Management        18                     42  320148   \n",
       "874    Director  40.0          IT        15                     14  319742   \n",
       "\n",
       "     RATINGS  \n",
       "882      2.0  \n",
       "878      5.0  \n",
       "868      3.0  \n",
       "869      3.0  \n",
       "879      3.0  \n",
       "891      5.0  \n",
       "885      3.0  \n",
       "881      3.0  \n",
       "893      2.0  \n",
       "874      4.0  "
      ]
     },
     "execution_count": 18,
     "metadata": {},
     "output_type": "execute_result"
    }
   ],
   "source": [
    "data.sort_values(by='SALARY',ascending=False).head(10)"
   ]
  },
  {
   "cell_type": "code",
   "execution_count": 19,
   "id": "272c7ad6",
   "metadata": {},
   "outputs": [
    {
     "data": {
      "text/html": [
       "<div>\n",
       "<style scoped>\n",
       "    .dataframe tbody tr th:only-of-type {\n",
       "        vertical-align: middle;\n",
       "    }\n",
       "\n",
       "    .dataframe tbody tr th {\n",
       "        vertical-align: top;\n",
       "    }\n",
       "\n",
       "    .dataframe thead th {\n",
       "        text-align: right;\n",
       "    }\n",
       "</style>\n",
       "<table border=\"1\" class=\"dataframe\">\n",
       "  <thead>\n",
       "    <tr style=\"text-align: right;\">\n",
       "      <th></th>\n",
       "      <th>DESIGNATION</th>\n",
       "      <th>AGE</th>\n",
       "      <th>UNIT</th>\n",
       "      <th>PAST EXP</th>\n",
       "      <th>Total_time_in_company</th>\n",
       "      <th>SALARY</th>\n",
       "      <th>RATINGS</th>\n",
       "    </tr>\n",
       "  </thead>\n",
       "  <tbody>\n",
       "    <tr>\n",
       "      <th>0</th>\n",
       "      <td>Analyst</td>\n",
       "      <td>21.0</td>\n",
       "      <td>Finance</td>\n",
       "      <td>0</td>\n",
       "      <td>11</td>\n",
       "      <td>45774</td>\n",
       "      <td>5.0</td>\n",
       "    </tr>\n",
       "    <tr>\n",
       "      <th>583</th>\n",
       "      <td>Analyst</td>\n",
       "      <td>25.0</td>\n",
       "      <td>Finance</td>\n",
       "      <td>2</td>\n",
       "      <td>21</td>\n",
       "      <td>46350</td>\n",
       "      <td>5.0</td>\n",
       "    </tr>\n",
       "    <tr>\n",
       "      <th>573</th>\n",
       "      <td>Analyst</td>\n",
       "      <td>24.0</td>\n",
       "      <td>Web</td>\n",
       "      <td>2</td>\n",
       "      <td>16</td>\n",
       "      <td>44002</td>\n",
       "      <td>5.0</td>\n",
       "    </tr>\n",
       "    <tr>\n",
       "      <th>574</th>\n",
       "      <td>Analyst</td>\n",
       "      <td>24.0</td>\n",
       "      <td>Web</td>\n",
       "      <td>2</td>\n",
       "      <td>17</td>\n",
       "      <td>46779</td>\n",
       "      <td>5.0</td>\n",
       "    </tr>\n",
       "    <tr>\n",
       "      <th>575</th>\n",
       "      <td>Analyst</td>\n",
       "      <td>25.0</td>\n",
       "      <td>Finance</td>\n",
       "      <td>1</td>\n",
       "      <td>31</td>\n",
       "      <td>43884</td>\n",
       "      <td>5.0</td>\n",
       "    </tr>\n",
       "    <tr>\n",
       "      <th>577</th>\n",
       "      <td>Analyst</td>\n",
       "      <td>25.0</td>\n",
       "      <td>Finance</td>\n",
       "      <td>1</td>\n",
       "      <td>33</td>\n",
       "      <td>46659</td>\n",
       "      <td>5.0</td>\n",
       "    </tr>\n",
       "    <tr>\n",
       "      <th>578</th>\n",
       "      <td>Analyst</td>\n",
       "      <td>25.0</td>\n",
       "      <td>Finance</td>\n",
       "      <td>1</td>\n",
       "      <td>34</td>\n",
       "      <td>48458</td>\n",
       "      <td>5.0</td>\n",
       "    </tr>\n",
       "    <tr>\n",
       "      <th>579</th>\n",
       "      <td>Analyst</td>\n",
       "      <td>25.0</td>\n",
       "      <td>Finance</td>\n",
       "      <td>1</td>\n",
       "      <td>36</td>\n",
       "      <td>44354</td>\n",
       "      <td>5.0</td>\n",
       "    </tr>\n",
       "    <tr>\n",
       "      <th>581</th>\n",
       "      <td>Analyst</td>\n",
       "      <td>25.0</td>\n",
       "      <td>Finance</td>\n",
       "      <td>2</td>\n",
       "      <td>19</td>\n",
       "      <td>45081</td>\n",
       "      <td>5.0</td>\n",
       "    </tr>\n",
       "    <tr>\n",
       "      <th>582</th>\n",
       "      <td>Analyst</td>\n",
       "      <td>25.0</td>\n",
       "      <td>Finance</td>\n",
       "      <td>2</td>\n",
       "      <td>20</td>\n",
       "      <td>48784</td>\n",
       "      <td>5.0</td>\n",
       "    </tr>\n",
       "  </tbody>\n",
       "</table>\n",
       "</div>"
      ],
      "text/plain": [
       "    DESIGNATION   AGE     UNIT  PAST EXP  Total_time_in_company  SALARY  \\\n",
       "0       Analyst  21.0  Finance         0                     11   45774   \n",
       "583     Analyst  25.0  Finance         2                     21   46350   \n",
       "573     Analyst  24.0      Web         2                     16   44002   \n",
       "574     Analyst  24.0      Web         2                     17   46779   \n",
       "575     Analyst  25.0  Finance         1                     31   43884   \n",
       "577     Analyst  25.0  Finance         1                     33   46659   \n",
       "578     Analyst  25.0  Finance         1                     34   48458   \n",
       "579     Analyst  25.0  Finance         1                     36   44354   \n",
       "581     Analyst  25.0  Finance         2                     19   45081   \n",
       "582     Analyst  25.0  Finance         2                     20   48784   \n",
       "\n",
       "     RATINGS  \n",
       "0        5.0  \n",
       "583      5.0  \n",
       "573      5.0  \n",
       "574      5.0  \n",
       "575      5.0  \n",
       "577      5.0  \n",
       "578      5.0  \n",
       "579      5.0  \n",
       "581      5.0  \n",
       "582      5.0  "
      ]
     },
     "execution_count": 19,
     "metadata": {},
     "output_type": "execute_result"
    }
   ],
   "source": [
    "data.sort_values(by='RATINGS',ascending=False).head(10)"
   ]
  },
  {
   "cell_type": "code",
   "execution_count": 20,
   "id": "37f6af51",
   "metadata": {},
   "outputs": [],
   "source": [
    "df['UNIT'].unique()\n",
    "df['UNIT']=df['UNIT'].map({'Finance':1,'Web':2,'IT':3,'Operations':4,'Marketing':5,'Management':6})"
   ]
  },
  {
   "cell_type": "code",
   "execution_count": 21,
   "id": "8607065b",
   "metadata": {},
   "outputs": [
    {
     "data": {
      "text/plain": [
       "array(['Analyst', 'Senior Analyst', 'Associate', 'Senior Manager',\n",
       "       'Manager', 'Director'], dtype=object)"
      ]
     },
     "execution_count": 21,
     "metadata": {},
     "output_type": "execute_result"
    }
   ],
   "source": [
    "df[\"DESIGNATION\"].unique()\n",
    "#df[\"DESIGNATION\"]=df[\"DESIGNATION\"].map({'Analyst':0, 'Senior Analyst':1, 'Associate':2, 'Senior Manager':3,'Manager':4, 'Director':5})"
   ]
  },
  {
   "cell_type": "code",
   "execution_count": 22,
   "id": "ec6b1d13",
   "metadata": {},
   "outputs": [],
   "source": [
    "# since designation is a ordinal categorical variable and we cant use it for dummy variable\n",
    "# and we want to give value them using their seniority.\n",
    "from sklearn.preprocessing import LabelEncoder\n",
    "\n",
    "# Create a LabelEncoder object\n",
    "label_encoder = LabelEncoder()\n",
    "\n",
    "# Fit and transform the data\n",
    "df['DESIGNATION']= label_encoder.fit_transform(df['DESIGNATION'])\n",
    "\n"
   ]
  },
  {
   "cell_type": "code",
   "execution_count": 23,
   "id": "ace9c85b",
   "metadata": {},
   "outputs": [
    {
     "data": {
      "text/plain": [
       "array([0, 4, 1, 5, 3, 2])"
      ]
     },
     "execution_count": 23,
     "metadata": {},
     "output_type": "execute_result"
    }
   ],
   "source": [
    "df['DESIGNATION'].unique()"
   ]
  },
  {
   "cell_type": "code",
   "execution_count": 24,
   "id": "46dde6b9",
   "metadata": {},
   "outputs": [],
   "source": [
    "df['SEX'].unique()\n",
    "df['SEX']=df['SEX'].map({'F':0, 'M':1})"
   ]
  },
  {
   "cell_type": "code",
   "execution_count": 25,
   "id": "7aa3be55",
   "metadata": {},
   "outputs": [
    {
     "name": "stdout",
     "output_type": "stream",
     "text": [
      "<class 'pandas.core.frame.DataFrame'>\n",
      "Index: 2631 entries, 0 to 2638\n",
      "Data columns (total 12 columns):\n",
      " #   Column                 Non-Null Count  Dtype  \n",
      "---  ------                 --------------  -----  \n",
      " 0   FIRST NAME             2631 non-null   object \n",
      " 1   LAST NAME              2631 non-null   object \n",
      " 2   SEX                    2631 non-null   int64  \n",
      " 3   DESIGNATION            2631 non-null   int32  \n",
      " 4   AGE                    2631 non-null   float64\n",
      " 5   SALARY                 2631 non-null   int64  \n",
      " 6   UNIT                   2631 non-null   int64  \n",
      " 7   LEAVES USED            2631 non-null   float64\n",
      " 8   LEAVES REMAINING       2631 non-null   float64\n",
      " 9   RATINGS                2631 non-null   float64\n",
      " 10  PAST EXP               2631 non-null   int64  \n",
      " 11  Total_time_in_company  2631 non-null   int32  \n",
      "dtypes: float64(4), int32(2), int64(4), object(2)\n",
      "memory usage: 246.7+ KB\n"
     ]
    }
   ],
   "source": [
    "df.info()"
   ]
  },
  {
   "cell_type": "code",
   "execution_count": 26,
   "id": "0b245aea",
   "metadata": {},
   "outputs": [],
   "source": [
    "df['NAME']=df['FIRST NAME']+' '+df['LAST NAME']"
   ]
  },
  {
   "cell_type": "code",
   "execution_count": 27,
   "id": "8d3f5202",
   "metadata": {},
   "outputs": [
    {
     "data": {
      "text/html": [
       "<div>\n",
       "<style scoped>\n",
       "    .dataframe tbody tr th:only-of-type {\n",
       "        vertical-align: middle;\n",
       "    }\n",
       "\n",
       "    .dataframe tbody tr th {\n",
       "        vertical-align: top;\n",
       "    }\n",
       "\n",
       "    .dataframe thead th {\n",
       "        text-align: right;\n",
       "    }\n",
       "</style>\n",
       "<table border=\"1\" class=\"dataframe\">\n",
       "  <thead>\n",
       "    <tr style=\"text-align: right;\">\n",
       "      <th></th>\n",
       "      <th>FIRST NAME</th>\n",
       "      <th>LAST NAME</th>\n",
       "      <th>SEX</th>\n",
       "      <th>DESIGNATION</th>\n",
       "      <th>AGE</th>\n",
       "      <th>SALARY</th>\n",
       "      <th>UNIT</th>\n",
       "      <th>LEAVES USED</th>\n",
       "      <th>LEAVES REMAINING</th>\n",
       "      <th>RATINGS</th>\n",
       "      <th>PAST EXP</th>\n",
       "      <th>Total_time_in_company</th>\n",
       "      <th>NAME</th>\n",
       "    </tr>\n",
       "  </thead>\n",
       "  <tbody>\n",
       "    <tr>\n",
       "      <th>0</th>\n",
       "      <td>TOMASA</td>\n",
       "      <td>ARMEN</td>\n",
       "      <td>0</td>\n",
       "      <td>0</td>\n",
       "      <td>21.0</td>\n",
       "      <td>44570</td>\n",
       "      <td>1</td>\n",
       "      <td>24.0</td>\n",
       "      <td>6.0</td>\n",
       "      <td>2.0</td>\n",
       "      <td>0</td>\n",
       "      <td>19</td>\n",
       "      <td>TOMASA ARMEN</td>\n",
       "    </tr>\n",
       "    <tr>\n",
       "      <th>2</th>\n",
       "      <td>OLIVE</td>\n",
       "      <td>ANCY</td>\n",
       "      <td>0</td>\n",
       "      <td>0</td>\n",
       "      <td>21.0</td>\n",
       "      <td>40955</td>\n",
       "      <td>1</td>\n",
       "      <td>23.0</td>\n",
       "      <td>7.0</td>\n",
       "      <td>3.0</td>\n",
       "      <td>0</td>\n",
       "      <td>17</td>\n",
       "      <td>OLIVE ANCY</td>\n",
       "    </tr>\n",
       "    <tr>\n",
       "      <th>3</th>\n",
       "      <td>CHERRY</td>\n",
       "      <td>AQUILAR</td>\n",
       "      <td>0</td>\n",
       "      <td>0</td>\n",
       "      <td>22.0</td>\n",
       "      <td>45550</td>\n",
       "      <td>3</td>\n",
       "      <td>22.0</td>\n",
       "      <td>8.0</td>\n",
       "      <td>3.0</td>\n",
       "      <td>0</td>\n",
       "      <td>33</td>\n",
       "      <td>CHERRY AQUILAR</td>\n",
       "    </tr>\n",
       "    <tr>\n",
       "      <th>6</th>\n",
       "      <td>ELLIOT</td>\n",
       "      <td>AGULAR</td>\n",
       "      <td>1</td>\n",
       "      <td>0</td>\n",
       "      <td>22.0</td>\n",
       "      <td>40339</td>\n",
       "      <td>5</td>\n",
       "      <td>19.0</td>\n",
       "      <td>11.0</td>\n",
       "      <td>5.0</td>\n",
       "      <td>0</td>\n",
       "      <td>28</td>\n",
       "      <td>ELLIOT AGULAR</td>\n",
       "    </tr>\n",
       "    <tr>\n",
       "      <th>8</th>\n",
       "      <td>KATHY</td>\n",
       "      <td>ALSOP</td>\n",
       "      <td>0</td>\n",
       "      <td>4</td>\n",
       "      <td>28.0</td>\n",
       "      <td>63478</td>\n",
       "      <td>4</td>\n",
       "      <td>20.0</td>\n",
       "      <td>10.0</td>\n",
       "      <td>3.0</td>\n",
       "      <td>1</td>\n",
       "      <td>18</td>\n",
       "      <td>KATHY ALSOP</td>\n",
       "    </tr>\n",
       "  </tbody>\n",
       "</table>\n",
       "</div>"
      ],
      "text/plain": [
       "  FIRST NAME LAST NAME  SEX  DESIGNATION   AGE  SALARY  UNIT  LEAVES USED  \\\n",
       "0     TOMASA     ARMEN    0            0  21.0   44570     1         24.0   \n",
       "2      OLIVE      ANCY    0            0  21.0   40955     1         23.0   \n",
       "3     CHERRY   AQUILAR    0            0  22.0   45550     3         22.0   \n",
       "6     ELLIOT    AGULAR    1            0  22.0   40339     5         19.0   \n",
       "8      KATHY     ALSOP    0            4  28.0   63478     4         20.0   \n",
       "\n",
       "   LEAVES REMAINING  RATINGS  PAST EXP  Total_time_in_company            NAME  \n",
       "0               6.0      2.0         0                     19    TOMASA ARMEN  \n",
       "2               7.0      3.0         0                     17      OLIVE ANCY  \n",
       "3               8.0      3.0         0                     33  CHERRY AQUILAR  \n",
       "6              11.0      5.0         0                     28   ELLIOT AGULAR  \n",
       "8              10.0      3.0         1                     18     KATHY ALSOP  "
      ]
     },
     "execution_count": 27,
     "metadata": {},
     "output_type": "execute_result"
    }
   ],
   "source": [
    "df.head()"
   ]
  },
  {
   "cell_type": "code",
   "execution_count": 28,
   "id": "880eac00",
   "metadata": {},
   "outputs": [],
   "source": [
    "df.drop(['FIRST NAME','LAST NAME'],axis=1,inplace=True)"
   ]
  },
  {
   "cell_type": "code",
   "execution_count": 29,
   "id": "d72005fc",
   "metadata": {},
   "outputs": [
    {
     "data": {
      "text/html": [
       "<div>\n",
       "<style scoped>\n",
       "    .dataframe tbody tr th:only-of-type {\n",
       "        vertical-align: middle;\n",
       "    }\n",
       "\n",
       "    .dataframe tbody tr th {\n",
       "        vertical-align: top;\n",
       "    }\n",
       "\n",
       "    .dataframe thead th {\n",
       "        text-align: right;\n",
       "    }\n",
       "</style>\n",
       "<table border=\"1\" class=\"dataframe\">\n",
       "  <thead>\n",
       "    <tr style=\"text-align: right;\">\n",
       "      <th></th>\n",
       "      <th>SEX</th>\n",
       "      <th>DESIGNATION</th>\n",
       "      <th>AGE</th>\n",
       "      <th>SALARY</th>\n",
       "      <th>UNIT</th>\n",
       "      <th>LEAVES USED</th>\n",
       "      <th>LEAVES REMAINING</th>\n",
       "      <th>RATINGS</th>\n",
       "      <th>PAST EXP</th>\n",
       "      <th>Total_time_in_company</th>\n",
       "    </tr>\n",
       "  </thead>\n",
       "  <tbody>\n",
       "    <tr>\n",
       "      <th>0</th>\n",
       "      <td>0</td>\n",
       "      <td>0</td>\n",
       "      <td>21.0</td>\n",
       "      <td>44570</td>\n",
       "      <td>1</td>\n",
       "      <td>24.0</td>\n",
       "      <td>6.0</td>\n",
       "      <td>2.0</td>\n",
       "      <td>0</td>\n",
       "      <td>19</td>\n",
       "    </tr>\n",
       "    <tr>\n",
       "      <th>2</th>\n",
       "      <td>0</td>\n",
       "      <td>0</td>\n",
       "      <td>21.0</td>\n",
       "      <td>40955</td>\n",
       "      <td>1</td>\n",
       "      <td>23.0</td>\n",
       "      <td>7.0</td>\n",
       "      <td>3.0</td>\n",
       "      <td>0</td>\n",
       "      <td>17</td>\n",
       "    </tr>\n",
       "    <tr>\n",
       "      <th>3</th>\n",
       "      <td>0</td>\n",
       "      <td>0</td>\n",
       "      <td>22.0</td>\n",
       "      <td>45550</td>\n",
       "      <td>3</td>\n",
       "      <td>22.0</td>\n",
       "      <td>8.0</td>\n",
       "      <td>3.0</td>\n",
       "      <td>0</td>\n",
       "      <td>33</td>\n",
       "    </tr>\n",
       "    <tr>\n",
       "      <th>6</th>\n",
       "      <td>1</td>\n",
       "      <td>0</td>\n",
       "      <td>22.0</td>\n",
       "      <td>40339</td>\n",
       "      <td>5</td>\n",
       "      <td>19.0</td>\n",
       "      <td>11.0</td>\n",
       "      <td>5.0</td>\n",
       "      <td>0</td>\n",
       "      <td>28</td>\n",
       "    </tr>\n",
       "    <tr>\n",
       "      <th>8</th>\n",
       "      <td>0</td>\n",
       "      <td>4</td>\n",
       "      <td>28.0</td>\n",
       "      <td>63478</td>\n",
       "      <td>4</td>\n",
       "      <td>20.0</td>\n",
       "      <td>10.0</td>\n",
       "      <td>3.0</td>\n",
       "      <td>1</td>\n",
       "      <td>18</td>\n",
       "    </tr>\n",
       "    <tr>\n",
       "      <th>...</th>\n",
       "      <td>...</td>\n",
       "      <td>...</td>\n",
       "      <td>...</td>\n",
       "      <td>...</td>\n",
       "      <td>...</td>\n",
       "      <td>...</td>\n",
       "      <td>...</td>\n",
       "      <td>...</td>\n",
       "      <td>...</td>\n",
       "      <td>...</td>\n",
       "    </tr>\n",
       "    <tr>\n",
       "      <th>2634</th>\n",
       "      <td>0</td>\n",
       "      <td>5</td>\n",
       "      <td>36.0</td>\n",
       "      <td>185977</td>\n",
       "      <td>6</td>\n",
       "      <td>15.0</td>\n",
       "      <td>15.0</td>\n",
       "      <td>5.0</td>\n",
       "      <td>10</td>\n",
       "      <td>55</td>\n",
       "    </tr>\n",
       "    <tr>\n",
       "      <th>2635</th>\n",
       "      <td>0</td>\n",
       "      <td>0</td>\n",
       "      <td>23.0</td>\n",
       "      <td>45758</td>\n",
       "      <td>3</td>\n",
       "      <td>17.0</td>\n",
       "      <td>13.0</td>\n",
       "      <td>2.0</td>\n",
       "      <td>0</td>\n",
       "      <td>24</td>\n",
       "    </tr>\n",
       "    <tr>\n",
       "      <th>2636</th>\n",
       "      <td>0</td>\n",
       "      <td>0</td>\n",
       "      <td>21.0</td>\n",
       "      <td>47315</td>\n",
       "      <td>2</td>\n",
       "      <td>29.0</td>\n",
       "      <td>1.0</td>\n",
       "      <td>5.0</td>\n",
       "      <td>0</td>\n",
       "      <td>23</td>\n",
       "    </tr>\n",
       "    <tr>\n",
       "      <th>2637</th>\n",
       "      <td>0</td>\n",
       "      <td>0</td>\n",
       "      <td>24.0</td>\n",
       "      <td>45172</td>\n",
       "      <td>2</td>\n",
       "      <td>23.0</td>\n",
       "      <td>7.0</td>\n",
       "      <td>3.0</td>\n",
       "      <td>1</td>\n",
       "      <td>22</td>\n",
       "    </tr>\n",
       "    <tr>\n",
       "      <th>2638</th>\n",
       "      <td>1</td>\n",
       "      <td>0</td>\n",
       "      <td>24.0</td>\n",
       "      <td>49176</td>\n",
       "      <td>5</td>\n",
       "      <td>17.0</td>\n",
       "      <td>13.0</td>\n",
       "      <td>2.0</td>\n",
       "      <td>2</td>\n",
       "      <td>15</td>\n",
       "    </tr>\n",
       "  </tbody>\n",
       "</table>\n",
       "<p>2631 rows × 10 columns</p>\n",
       "</div>"
      ],
      "text/plain": [
       "      SEX  DESIGNATION   AGE  SALARY  UNIT  LEAVES USED  LEAVES REMAINING  \\\n",
       "0       0            0  21.0   44570     1         24.0               6.0   \n",
       "2       0            0  21.0   40955     1         23.0               7.0   \n",
       "3       0            0  22.0   45550     3         22.0               8.0   \n",
       "6       1            0  22.0   40339     5         19.0              11.0   \n",
       "8       0            4  28.0   63478     4         20.0              10.0   \n",
       "...   ...          ...   ...     ...   ...          ...               ...   \n",
       "2634    0            5  36.0  185977     6         15.0              15.0   \n",
       "2635    0            0  23.0   45758     3         17.0              13.0   \n",
       "2636    0            0  21.0   47315     2         29.0               1.0   \n",
       "2637    0            0  24.0   45172     2         23.0               7.0   \n",
       "2638    1            0  24.0   49176     5         17.0              13.0   \n",
       "\n",
       "      RATINGS  PAST EXP  Total_time_in_company  \n",
       "0         2.0         0                     19  \n",
       "2         3.0         0                     17  \n",
       "3         3.0         0                     33  \n",
       "6         5.0         0                     28  \n",
       "8         3.0         1                     18  \n",
       "...       ...       ...                    ...  \n",
       "2634      5.0        10                     55  \n",
       "2635      2.0         0                     24  \n",
       "2636      5.0         0                     23  \n",
       "2637      3.0         1                     22  \n",
       "2638      2.0         2                     15  \n",
       "\n",
       "[2631 rows x 10 columns]"
      ]
     },
     "execution_count": 29,
     "metadata": {},
     "output_type": "execute_result"
    }
   ],
   "source": [
    "df1=df.iloc[:,:-1]\n",
    "df1"
   ]
  },
  {
   "cell_type": "code",
   "execution_count": 30,
   "id": "9ee3b617",
   "metadata": {},
   "outputs": [
    {
     "data": {
      "text/html": [
       "<div>\n",
       "<style scoped>\n",
       "    .dataframe tbody tr th:only-of-type {\n",
       "        vertical-align: middle;\n",
       "    }\n",
       "\n",
       "    .dataframe tbody tr th {\n",
       "        vertical-align: top;\n",
       "    }\n",
       "\n",
       "    .dataframe thead th {\n",
       "        text-align: right;\n",
       "    }\n",
       "</style>\n",
       "<table border=\"1\" class=\"dataframe\">\n",
       "  <thead>\n",
       "    <tr style=\"text-align: right;\">\n",
       "      <th></th>\n",
       "      <th>SEX</th>\n",
       "      <th>DESIGNATION</th>\n",
       "      <th>AGE</th>\n",
       "      <th>SALARY</th>\n",
       "      <th>UNIT</th>\n",
       "      <th>LEAVES USED</th>\n",
       "      <th>LEAVES REMAINING</th>\n",
       "      <th>RATINGS</th>\n",
       "      <th>PAST EXP</th>\n",
       "      <th>Total_time_in_company</th>\n",
       "    </tr>\n",
       "  </thead>\n",
       "  <tbody>\n",
       "    <tr>\n",
       "      <th>SEX</th>\n",
       "      <td>1.000000</td>\n",
       "      <td>0.001672</td>\n",
       "      <td>-0.016458</td>\n",
       "      <td>-0.028537</td>\n",
       "      <td>0.019135</td>\n",
       "      <td>0.010609</td>\n",
       "      <td>-0.010609</td>\n",
       "      <td>-0.038273</td>\n",
       "      <td>-0.022794</td>\n",
       "      <td>-0.007756</td>\n",
       "    </tr>\n",
       "    <tr>\n",
       "      <th>DESIGNATION</th>\n",
       "      <td>0.001672</td>\n",
       "      <td>1.000000</td>\n",
       "      <td>0.626404</td>\n",
       "      <td>0.496911</td>\n",
       "      <td>0.011358</td>\n",
       "      <td>-0.000216</td>\n",
       "      <td>0.000216</td>\n",
       "      <td>0.014781</td>\n",
       "      <td>0.457396</td>\n",
       "      <td>0.346846</td>\n",
       "    </tr>\n",
       "    <tr>\n",
       "      <th>AGE</th>\n",
       "      <td>-0.016458</td>\n",
       "      <td>0.626404</td>\n",
       "      <td>1.000000</td>\n",
       "      <td>0.871929</td>\n",
       "      <td>0.007580</td>\n",
       "      <td>0.007143</td>\n",
       "      <td>-0.007143</td>\n",
       "      <td>0.039134</td>\n",
       "      <td>0.903659</td>\n",
       "      <td>0.458761</td>\n",
       "    </tr>\n",
       "    <tr>\n",
       "      <th>SALARY</th>\n",
       "      <td>-0.028537</td>\n",
       "      <td>0.496911</td>\n",
       "      <td>0.871929</td>\n",
       "      <td>1.000000</td>\n",
       "      <td>0.009109</td>\n",
       "      <td>0.006850</td>\n",
       "      <td>-0.006850</td>\n",
       "      <td>0.021702</td>\n",
       "      <td>0.854024</td>\n",
       "      <td>0.434850</td>\n",
       "    </tr>\n",
       "    <tr>\n",
       "      <th>UNIT</th>\n",
       "      <td>0.019135</td>\n",
       "      <td>0.011358</td>\n",
       "      <td>0.007580</td>\n",
       "      <td>0.009109</td>\n",
       "      <td>1.000000</td>\n",
       "      <td>0.007757</td>\n",
       "      <td>-0.007757</td>\n",
       "      <td>0.023897</td>\n",
       "      <td>0.002491</td>\n",
       "      <td>0.005337</td>\n",
       "    </tr>\n",
       "    <tr>\n",
       "      <th>LEAVES USED</th>\n",
       "      <td>0.010609</td>\n",
       "      <td>-0.000216</td>\n",
       "      <td>0.007143</td>\n",
       "      <td>0.006850</td>\n",
       "      <td>0.007757</td>\n",
       "      <td>1.000000</td>\n",
       "      <td>-1.000000</td>\n",
       "      <td>0.004352</td>\n",
       "      <td>0.007832</td>\n",
       "      <td>0.013198</td>\n",
       "    </tr>\n",
       "    <tr>\n",
       "      <th>LEAVES REMAINING</th>\n",
       "      <td>-0.010609</td>\n",
       "      <td>0.000216</td>\n",
       "      <td>-0.007143</td>\n",
       "      <td>-0.006850</td>\n",
       "      <td>-0.007757</td>\n",
       "      <td>-1.000000</td>\n",
       "      <td>1.000000</td>\n",
       "      <td>-0.004352</td>\n",
       "      <td>-0.007832</td>\n",
       "      <td>-0.013198</td>\n",
       "    </tr>\n",
       "    <tr>\n",
       "      <th>RATINGS</th>\n",
       "      <td>-0.038273</td>\n",
       "      <td>0.014781</td>\n",
       "      <td>0.039134</td>\n",
       "      <td>0.021702</td>\n",
       "      <td>0.023897</td>\n",
       "      <td>0.004352</td>\n",
       "      <td>-0.004352</td>\n",
       "      <td>1.000000</td>\n",
       "      <td>0.042497</td>\n",
       "      <td>0.016660</td>\n",
       "    </tr>\n",
       "    <tr>\n",
       "      <th>PAST EXP</th>\n",
       "      <td>-0.022794</td>\n",
       "      <td>0.457396</td>\n",
       "      <td>0.903659</td>\n",
       "      <td>0.854024</td>\n",
       "      <td>0.002491</td>\n",
       "      <td>0.007832</td>\n",
       "      <td>-0.007832</td>\n",
       "      <td>0.042497</td>\n",
       "      <td>1.000000</td>\n",
       "      <td>0.220933</td>\n",
       "    </tr>\n",
       "    <tr>\n",
       "      <th>Total_time_in_company</th>\n",
       "      <td>-0.007756</td>\n",
       "      <td>0.346846</td>\n",
       "      <td>0.458761</td>\n",
       "      <td>0.434850</td>\n",
       "      <td>0.005337</td>\n",
       "      <td>0.013198</td>\n",
       "      <td>-0.013198</td>\n",
       "      <td>0.016660</td>\n",
       "      <td>0.220933</td>\n",
       "      <td>1.000000</td>\n",
       "    </tr>\n",
       "  </tbody>\n",
       "</table>\n",
       "</div>"
      ],
      "text/plain": [
       "                            SEX  DESIGNATION       AGE    SALARY      UNIT  \\\n",
       "SEX                    1.000000     0.001672 -0.016458 -0.028537  0.019135   \n",
       "DESIGNATION            0.001672     1.000000  0.626404  0.496911  0.011358   \n",
       "AGE                   -0.016458     0.626404  1.000000  0.871929  0.007580   \n",
       "SALARY                -0.028537     0.496911  0.871929  1.000000  0.009109   \n",
       "UNIT                   0.019135     0.011358  0.007580  0.009109  1.000000   \n",
       "LEAVES USED            0.010609    -0.000216  0.007143  0.006850  0.007757   \n",
       "LEAVES REMAINING      -0.010609     0.000216 -0.007143 -0.006850 -0.007757   \n",
       "RATINGS               -0.038273     0.014781  0.039134  0.021702  0.023897   \n",
       "PAST EXP              -0.022794     0.457396  0.903659  0.854024  0.002491   \n",
       "Total_time_in_company -0.007756     0.346846  0.458761  0.434850  0.005337   \n",
       "\n",
       "                       LEAVES USED  LEAVES REMAINING   RATINGS  PAST EXP  \\\n",
       "SEX                       0.010609         -0.010609 -0.038273 -0.022794   \n",
       "DESIGNATION              -0.000216          0.000216  0.014781  0.457396   \n",
       "AGE                       0.007143         -0.007143  0.039134  0.903659   \n",
       "SALARY                    0.006850         -0.006850  0.021702  0.854024   \n",
       "UNIT                      0.007757         -0.007757  0.023897  0.002491   \n",
       "LEAVES USED               1.000000         -1.000000  0.004352  0.007832   \n",
       "LEAVES REMAINING         -1.000000          1.000000 -0.004352 -0.007832   \n",
       "RATINGS                   0.004352         -0.004352  1.000000  0.042497   \n",
       "PAST EXP                  0.007832         -0.007832  0.042497  1.000000   \n",
       "Total_time_in_company     0.013198         -0.013198  0.016660  0.220933   \n",
       "\n",
       "                       Total_time_in_company  \n",
       "SEX                                -0.007756  \n",
       "DESIGNATION                         0.346846  \n",
       "AGE                                 0.458761  \n",
       "SALARY                              0.434850  \n",
       "UNIT                                0.005337  \n",
       "LEAVES USED                         0.013198  \n",
       "LEAVES REMAINING                   -0.013198  \n",
       "RATINGS                             0.016660  \n",
       "PAST EXP                            0.220933  \n",
       "Total_time_in_company               1.000000  "
      ]
     },
     "execution_count": 30,
     "metadata": {},
     "output_type": "execute_result"
    }
   ],
   "source": [
    "cor=df1.corr()\n",
    "cor\n"
   ]
  },
  {
   "cell_type": "code",
   "execution_count": 31,
   "id": "526e7f4c",
   "metadata": {},
   "outputs": [
    {
     "data": {
      "text/plain": [
       "SEX                      1.000000\n",
       "DESIGNATION              0.001672\n",
       "AGE                     -0.016458\n",
       "SALARY                  -0.028537\n",
       "UNIT                     0.019135\n",
       "LEAVES USED              0.010609\n",
       "LEAVES REMAINING        -0.010609\n",
       "RATINGS                 -0.038273\n",
       "PAST EXP                -0.022794\n",
       "Total_time_in_company   -0.007756\n",
       "Name: SEX, dtype: float64"
      ]
     },
     "execution_count": 31,
     "metadata": {},
     "output_type": "execute_result"
    }
   ],
   "source": [
    "cor['SEX']"
   ]
  },
  {
   "cell_type": "code",
   "execution_count": 32,
   "id": "f6543460",
   "metadata": {},
   "outputs": [
    {
     "data": {
      "image/png": "[encoded data removed]",
      "text/plain": [
       "<Figure size 1000x800 with 2 Axes>"
      ]
     },
     "metadata": {},
     "output_type": "display_data"
    }
   ],
   "source": [
    "\n",
    "# Plotting the correlation matrix\n",
    "plt.figure(figsize=(10, 8))\n",
    "sns.heatmap(cor, annot=True, cmap='coolwarm', fmt=\".2f\", linewidths=.5)\n",
    "plt.title(\"Correlation Matrix\")\n",
    "plt.show()\n"
   ]
  },
  {
   "cell_type": "code",
   "execution_count": 33,
   "id": "982fcf7f",
   "metadata": {},
   "outputs": [],
   "source": [
    "# here we can judge that leaves remaining and leaves used have highly negative corelation and it couldnot affect the \n",
    "# target variavle as well so we can drop one of them.\n",
    "df1.drop('LEAVES USED',axis=1,inplace=True)"
   ]
  },
  {
   "cell_type": "code",
   "execution_count": 34,
   "id": "fbbdc452",
   "metadata": {},
   "outputs": [
    {
     "data": {
      "text/html": [
       "<div>\n",
       "<style scoped>\n",
       "    .dataframe tbody tr th:only-of-type {\n",
       "        vertical-align: middle;\n",
       "    }\n",
       "\n",
       "    .dataframe tbody tr th {\n",
       "        vertical-align: top;\n",
       "    }\n",
       "\n",
       "    .dataframe thead th {\n",
       "        text-align: right;\n",
       "    }\n",
       "</style>\n",
       "<table border=\"1\" class=\"dataframe\">\n",
       "  <thead>\n",
       "    <tr style=\"text-align: right;\">\n",
       "      <th></th>\n",
       "      <th>SEX</th>\n",
       "      <th>DESIGNATION</th>\n",
       "      <th>AGE</th>\n",
       "      <th>SALARY</th>\n",
       "      <th>UNIT</th>\n",
       "      <th>LEAVES REMAINING</th>\n",
       "      <th>RATINGS</th>\n",
       "      <th>PAST EXP</th>\n",
       "      <th>Total_time_in_company</th>\n",
       "    </tr>\n",
       "  </thead>\n",
       "  <tbody>\n",
       "    <tr>\n",
       "      <th>SEX</th>\n",
       "      <td>1.000000</td>\n",
       "      <td>0.001672</td>\n",
       "      <td>-0.016458</td>\n",
       "      <td>-0.028537</td>\n",
       "      <td>0.019135</td>\n",
       "      <td>-0.010609</td>\n",
       "      <td>-0.038273</td>\n",
       "      <td>-0.022794</td>\n",
       "      <td>-0.007756</td>\n",
       "    </tr>\n",
       "    <tr>\n",
       "      <th>DESIGNATION</th>\n",
       "      <td>0.001672</td>\n",
       "      <td>1.000000</td>\n",
       "      <td>0.626404</td>\n",
       "      <td>0.496911</td>\n",
       "      <td>0.011358</td>\n",
       "      <td>0.000216</td>\n",
       "      <td>0.014781</td>\n",
       "      <td>0.457396</td>\n",
       "      <td>0.346846</td>\n",
       "    </tr>\n",
       "    <tr>\n",
       "      <th>AGE</th>\n",
       "      <td>-0.016458</td>\n",
       "      <td>0.626404</td>\n",
       "      <td>1.000000</td>\n",
       "      <td>0.871929</td>\n",
       "      <td>0.007580</td>\n",
       "      <td>-0.007143</td>\n",
       "      <td>0.039134</td>\n",
       "      <td>0.903659</td>\n",
       "      <td>0.458761</td>\n",
       "    </tr>\n",
       "    <tr>\n",
       "      <th>SALARY</th>\n",
       "      <td>-0.028537</td>\n",
       "      <td>0.496911</td>\n",
       "      <td>0.871929</td>\n",
       "      <td>1.000000</td>\n",
       "      <td>0.009109</td>\n",
       "      <td>-0.006850</td>\n",
       "      <td>0.021702</td>\n",
       "      <td>0.854024</td>\n",
       "      <td>0.434850</td>\n",
       "    </tr>\n",
       "    <tr>\n",
       "      <th>UNIT</th>\n",
       "      <td>0.019135</td>\n",
       "      <td>0.011358</td>\n",
       "      <td>0.007580</td>\n",
       "      <td>0.009109</td>\n",
       "      <td>1.000000</td>\n",
       "      <td>-0.007757</td>\n",
       "      <td>0.023897</td>\n",
       "      <td>0.002491</td>\n",
       "      <td>0.005337</td>\n",
       "    </tr>\n",
       "    <tr>\n",
       "      <th>LEAVES REMAINING</th>\n",
       "      <td>-0.010609</td>\n",
       "      <td>0.000216</td>\n",
       "      <td>-0.007143</td>\n",
       "      <td>-0.006850</td>\n",
       "      <td>-0.007757</td>\n",
       "      <td>1.000000</td>\n",
       "      <td>-0.004352</td>\n",
       "      <td>-0.007832</td>\n",
       "      <td>-0.013198</td>\n",
       "    </tr>\n",
       "    <tr>\n",
       "      <th>RATINGS</th>\n",
       "      <td>-0.038273</td>\n",
       "      <td>0.014781</td>\n",
       "      <td>0.039134</td>\n",
       "      <td>0.021702</td>\n",
       "      <td>0.023897</td>\n",
       "      <td>-0.004352</td>\n",
       "      <td>1.000000</td>\n",
       "      <td>0.042497</td>\n",
       "      <td>0.016660</td>\n",
       "    </tr>\n",
       "    <tr>\n",
       "      <th>PAST EXP</th>\n",
       "      <td>-0.022794</td>\n",
       "      <td>0.457396</td>\n",
       "      <td>0.903659</td>\n",
       "      <td>0.854024</td>\n",
       "      <td>0.002491</td>\n",
       "      <td>-0.007832</td>\n",
       "      <td>0.042497</td>\n",
       "      <td>1.000000</td>\n",
       "      <td>0.220933</td>\n",
       "    </tr>\n",
       "    <tr>\n",
       "      <th>Total_time_in_company</th>\n",
       "      <td>-0.007756</td>\n",
       "      <td>0.346846</td>\n",
       "      <td>0.458761</td>\n",
       "      <td>0.434850</td>\n",
       "      <td>0.005337</td>\n",
       "      <td>-0.013198</td>\n",
       "      <td>0.016660</td>\n",
       "      <td>0.220933</td>\n",
       "      <td>1.000000</td>\n",
       "    </tr>\n",
       "  </tbody>\n",
       "</table>\n",
       "</div>"
      ],
      "text/plain": [
       "                            SEX  DESIGNATION       AGE    SALARY      UNIT  \\\n",
       "SEX                    1.000000     0.001672 -0.016458 -0.028537  0.019135   \n",
       "DESIGNATION            0.001672     1.000000  0.626404  0.496911  0.011358   \n",
       "AGE                   -0.016458     0.626404  1.000000  0.871929  0.007580   \n",
       "SALARY                -0.028537     0.496911  0.871929  1.000000  0.009109   \n",
       "UNIT                   0.019135     0.011358  0.007580  0.009109  1.000000   \n",
       "LEAVES REMAINING      -0.010609     0.000216 -0.007143 -0.006850 -0.007757   \n",
       "RATINGS               -0.038273     0.014781  0.039134  0.021702  0.023897   \n",
       "PAST EXP              -0.022794     0.457396  0.903659  0.854024  0.002491   \n",
       "Total_time_in_company -0.007756     0.346846  0.458761  0.434850  0.005337   \n",
       "\n",
       "                       LEAVES REMAINING   RATINGS  PAST EXP  \\\n",
       "SEX                           -0.010609 -0.038273 -0.022794   \n",
       "DESIGNATION                    0.000216  0.014781  0.457396   \n",
       "AGE                           -0.007143  0.039134  0.903659   \n",
       "SALARY                        -0.006850  0.021702  0.854024   \n",
       "UNIT                          -0.007757  0.023897  0.002491   \n",
       "LEAVES REMAINING               1.000000 -0.004352 -0.007832   \n",
       "RATINGS                       -0.004352  1.000000  0.042497   \n",
       "PAST EXP                      -0.007832  0.042497  1.000000   \n",
       "Total_time_in_company         -0.013198  0.016660  0.220933   \n",
       "\n",
       "                       Total_time_in_company  \n",
       "SEX                                -0.007756  \n",
       "DESIGNATION                         0.346846  \n",
       "AGE                                 0.458761  \n",
       "SALARY                              0.434850  \n",
       "UNIT                                0.005337  \n",
       "LEAVES REMAINING                   -0.013198  \n",
       "RATINGS                             0.016660  \n",
       "PAST EXP                            0.220933  \n",
       "Total_time_in_company               1.000000  "
      ]
     },
     "execution_count": 34,
     "metadata": {},
     "output_type": "execute_result"
    }
   ],
   "source": [
    "cor_matrix=df1.corr()\n",
    "cor_matrix"
   ]
  },
  {
   "cell_type": "code",
   "execution_count": 35,
   "id": "2e9072c9",
   "metadata": {},
   "outputs": [
    {
     "data": {
      "image/png": "[encoded data removed]",
      "text/plain": [
       "<Figure size 1000x800 with 2 Axes>"
      ]
     },
     "metadata": {},
     "output_type": "display_data"
    }
   ],
   "source": [
    "\n",
    "# Plotting the correlation matrix\n",
    "plt.figure(figsize=(10, 8))\n",
    "sns.heatmap(cor_matrix, annot=True, cmap='coolwarm', fmt=\".2f\", linewidths=.5)\n",
    "plt.title(\"Correlation Matrix\")\n",
    "plt.show()"
   ]
  },
  {
   "cell_type": "code",
   "execution_count": 36,
   "id": "4453c6cf",
   "metadata": {},
   "outputs": [],
   "source": [
    "\n",
    "#plt.figure(figsize=(15, 10))\n",
    "#sns.pairplot(df1)\n",
    "#plt.show()"
   ]
  },
  {
   "cell_type": "code",
   "execution_count": 37,
   "id": "5f312d90",
   "metadata": {},
   "outputs": [
    {
     "data": {
      "text/plain": [
       "Index(['SEX', 'DESIGNATION', 'AGE', 'SALARY', 'UNIT', 'LEAVES REMAINING',\n",
       "       'RATINGS', 'PAST EXP', 'Total_time_in_company'],\n",
       "      dtype='object')"
      ]
     },
     "execution_count": 37,
     "metadata": {},
     "output_type": "execute_result"
    }
   ],
   "source": [
    "df1.columns\n"
   ]
  },
  {
   "cell_type": "code",
   "execution_count": 38,
   "id": "3ae51ed1",
   "metadata": {},
   "outputs": [
    {
     "name": "stderr",
     "output_type": "stream",
     "text": [
      "C:\\Users\\PC\\AppData\\Local\\Programs\\Python\\Python310\\lib\\site-packages\\seaborn\\_oldcore.py:1498: FutureWarning: is_categorical_dtype is deprecated and will be removed in a future version. Use isinstance(dtype, CategoricalDtype) instead\n",
      "  if pd.api.types.is_categorical_dtype(vector):\n",
      "C:\\Users\\PC\\AppData\\Local\\Programs\\Python\\Python310\\lib\\site-packages\\seaborn\\_oldcore.py:1498: FutureWarning: is_categorical_dtype is deprecated and will be removed in a future version. Use isinstance(dtype, CategoricalDtype) instead\n",
      "  if pd.api.types.is_categorical_dtype(vector):\n",
      "C:\\Users\\PC\\AppData\\Local\\Programs\\Python\\Python310\\lib\\site-packages\\seaborn\\_oldcore.py:1498: FutureWarning: is_categorical_dtype is deprecated and will be removed in a future version. Use isinstance(dtype, CategoricalDtype) instead\n",
      "  if pd.api.types.is_categorical_dtype(vector):\n",
      "C:\\Users\\PC\\AppData\\Local\\Programs\\Python\\Python310\\lib\\site-packages\\seaborn\\_oldcore.py:1498: FutureWarning: is_categorical_dtype is deprecated and will be removed in a future version. Use isinstance(dtype, CategoricalDtype) instead\n",
      "  if pd.api.types.is_categorical_dtype(vector):\n"
     ]
    },
    {
     "data": {
      "image/png": "[encoded data removed]",
      "text/plain": [
       "<Figure size 1500x1000 with 1 Axes>"
      ]
     },
     "metadata": {},
     "output_type": "display_data"
    }
   ],
   "source": [
    "plt.figure(figsize=(15, 10))\n",
    "sns.barplot(data=df1,x='AGE',y='SALARY',hue='SEX')\n",
    "plt.show()\n"
   ]
  },
  {
   "cell_type": "markdown",
   "id": "4a9c3c5d",
   "metadata": {},
   "source": [
    "### observation\n",
    "1. Ratio of male and female is almost same but we can say females are more in little number."
   ]
  },
  {
   "cell_type": "code",
   "execution_count": 39,
   "id": "1d3bb4ea",
   "metadata": {},
   "outputs": [
    {
     "data": {
      "text/html": [
       "<div>\n",
       "<style scoped>\n",
       "    .dataframe tbody tr th:only-of-type {\n",
       "        vertical-align: middle;\n",
       "    }\n",
       "\n",
       "    .dataframe tbody tr th {\n",
       "        vertical-align: top;\n",
       "    }\n",
       "\n",
       "    .dataframe thead th {\n",
       "        text-align: right;\n",
       "    }\n",
       "</style>\n",
       "<table border=\"1\" class=\"dataframe\">\n",
       "  <thead>\n",
       "    <tr style=\"text-align: right;\">\n",
       "      <th></th>\n",
       "      <th>SEX</th>\n",
       "      <th>DESIGNATION</th>\n",
       "      <th>AGE</th>\n",
       "      <th>SALARY</th>\n",
       "      <th>UNIT</th>\n",
       "      <th>LEAVES REMAINING</th>\n",
       "      <th>RATINGS</th>\n",
       "      <th>PAST EXP</th>\n",
       "      <th>Total_time_in_company</th>\n",
       "    </tr>\n",
       "  </thead>\n",
       "  <tbody>\n",
       "    <tr>\n",
       "      <th>0</th>\n",
       "      <td>0</td>\n",
       "      <td>0</td>\n",
       "      <td>21.0</td>\n",
       "      <td>44570</td>\n",
       "      <td>1</td>\n",
       "      <td>6.0</td>\n",
       "      <td>2.0</td>\n",
       "      <td>0</td>\n",
       "      <td>19</td>\n",
       "    </tr>\n",
       "    <tr>\n",
       "      <th>2</th>\n",
       "      <td>0</td>\n",
       "      <td>0</td>\n",
       "      <td>21.0</td>\n",
       "      <td>40955</td>\n",
       "      <td>1</td>\n",
       "      <td>7.0</td>\n",
       "      <td>3.0</td>\n",
       "      <td>0</td>\n",
       "      <td>17</td>\n",
       "    </tr>\n",
       "    <tr>\n",
       "      <th>3</th>\n",
       "      <td>0</td>\n",
       "      <td>0</td>\n",
       "      <td>22.0</td>\n",
       "      <td>45550</td>\n",
       "      <td>3</td>\n",
       "      <td>8.0</td>\n",
       "      <td>3.0</td>\n",
       "      <td>0</td>\n",
       "      <td>33</td>\n",
       "    </tr>\n",
       "    <tr>\n",
       "      <th>6</th>\n",
       "      <td>1</td>\n",
       "      <td>0</td>\n",
       "      <td>22.0</td>\n",
       "      <td>40339</td>\n",
       "      <td>5</td>\n",
       "      <td>11.0</td>\n",
       "      <td>5.0</td>\n",
       "      <td>0</td>\n",
       "      <td>28</td>\n",
       "    </tr>\n",
       "    <tr>\n",
       "      <th>8</th>\n",
       "      <td>0</td>\n",
       "      <td>4</td>\n",
       "      <td>28.0</td>\n",
       "      <td>63478</td>\n",
       "      <td>4</td>\n",
       "      <td>10.0</td>\n",
       "      <td>3.0</td>\n",
       "      <td>1</td>\n",
       "      <td>18</td>\n",
       "    </tr>\n",
       "  </tbody>\n",
       "</table>\n",
       "</div>"
      ],
      "text/plain": [
       "   SEX  DESIGNATION   AGE  SALARY  UNIT  LEAVES REMAINING  RATINGS  PAST EXP  \\\n",
       "0    0            0  21.0   44570     1               6.0      2.0         0   \n",
       "2    0            0  21.0   40955     1               7.0      3.0         0   \n",
       "3    0            0  22.0   45550     3               8.0      3.0         0   \n",
       "6    1            0  22.0   40339     5              11.0      5.0         0   \n",
       "8    0            4  28.0   63478     4              10.0      3.0         1   \n",
       "\n",
       "   Total_time_in_company  \n",
       "0                     19  \n",
       "2                     17  \n",
       "3                     33  \n",
       "6                     28  \n",
       "8                     18  "
      ]
     },
     "execution_count": 39,
     "metadata": {},
     "output_type": "execute_result"
    }
   ],
   "source": [
    "df1.head()"
   ]
  },
  {
   "cell_type": "markdown",
   "id": "ac420a02",
   "metadata": {},
   "source": [
    "### split the data set for train and test"
   ]
  },
  {
   "cell_type": "code",
   "execution_count": 40,
   "id": "68abc5f0",
   "metadata": {},
   "outputs": [
    {
     "data": {
      "text/html": [
       "<div>\n",
       "<style scoped>\n",
       "    .dataframe tbody tr th:only-of-type {\n",
       "        vertical-align: middle;\n",
       "    }\n",
       "\n",
       "    .dataframe tbody tr th {\n",
       "        vertical-align: top;\n",
       "    }\n",
       "\n",
       "    .dataframe thead th {\n",
       "        text-align: right;\n",
       "    }\n",
       "</style>\n",
       "<table border=\"1\" class=\"dataframe\">\n",
       "  <thead>\n",
       "    <tr style=\"text-align: right;\">\n",
       "      <th></th>\n",
       "      <th>SEX</th>\n",
       "      <th>DESIGNATION</th>\n",
       "      <th>AGE</th>\n",
       "      <th>UNIT</th>\n",
       "      <th>LEAVES REMAINING</th>\n",
       "      <th>RATINGS</th>\n",
       "      <th>PAST EXP</th>\n",
       "      <th>Total_time_in_company</th>\n",
       "    </tr>\n",
       "  </thead>\n",
       "  <tbody>\n",
       "    <tr>\n",
       "      <th>0</th>\n",
       "      <td>0</td>\n",
       "      <td>0</td>\n",
       "      <td>21.0</td>\n",
       "      <td>1</td>\n",
       "      <td>6.0</td>\n",
       "      <td>2.0</td>\n",
       "      <td>0</td>\n",
       "      <td>19</td>\n",
       "    </tr>\n",
       "    <tr>\n",
       "      <th>2</th>\n",
       "      <td>0</td>\n",
       "      <td>0</td>\n",
       "      <td>21.0</td>\n",
       "      <td>1</td>\n",
       "      <td>7.0</td>\n",
       "      <td>3.0</td>\n",
       "      <td>0</td>\n",
       "      <td>17</td>\n",
       "    </tr>\n",
       "    <tr>\n",
       "      <th>3</th>\n",
       "      <td>0</td>\n",
       "      <td>0</td>\n",
       "      <td>22.0</td>\n",
       "      <td>3</td>\n",
       "      <td>8.0</td>\n",
       "      <td>3.0</td>\n",
       "      <td>0</td>\n",
       "      <td>33</td>\n",
       "    </tr>\n",
       "    <tr>\n",
       "      <th>6</th>\n",
       "      <td>1</td>\n",
       "      <td>0</td>\n",
       "      <td>22.0</td>\n",
       "      <td>5</td>\n",
       "      <td>11.0</td>\n",
       "      <td>5.0</td>\n",
       "      <td>0</td>\n",
       "      <td>28</td>\n",
       "    </tr>\n",
       "    <tr>\n",
       "      <th>8</th>\n",
       "      <td>0</td>\n",
       "      <td>4</td>\n",
       "      <td>28.0</td>\n",
       "      <td>4</td>\n",
       "      <td>10.0</td>\n",
       "      <td>3.0</td>\n",
       "      <td>1</td>\n",
       "      <td>18</td>\n",
       "    </tr>\n",
       "    <tr>\n",
       "      <th>...</th>\n",
       "      <td>...</td>\n",
       "      <td>...</td>\n",
       "      <td>...</td>\n",
       "      <td>...</td>\n",
       "      <td>...</td>\n",
       "      <td>...</td>\n",
       "      <td>...</td>\n",
       "      <td>...</td>\n",
       "    </tr>\n",
       "    <tr>\n",
       "      <th>2634</th>\n",
       "      <td>0</td>\n",
       "      <td>5</td>\n",
       "      <td>36.0</td>\n",
       "      <td>6</td>\n",
       "      <td>15.0</td>\n",
       "      <td>5.0</td>\n",
       "      <td>10</td>\n",
       "      <td>55</td>\n",
       "    </tr>\n",
       "    <tr>\n",
       "      <th>2635</th>\n",
       "      <td>0</td>\n",
       "      <td>0</td>\n",
       "      <td>23.0</td>\n",
       "      <td>3</td>\n",
       "      <td>13.0</td>\n",
       "      <td>2.0</td>\n",
       "      <td>0</td>\n",
       "      <td>24</td>\n",
       "    </tr>\n",
       "    <tr>\n",
       "      <th>2636</th>\n",
       "      <td>0</td>\n",
       "      <td>0</td>\n",
       "      <td>21.0</td>\n",
       "      <td>2</td>\n",
       "      <td>1.0</td>\n",
       "      <td>5.0</td>\n",
       "      <td>0</td>\n",
       "      <td>23</td>\n",
       "    </tr>\n",
       "    <tr>\n",
       "      <th>2637</th>\n",
       "      <td>0</td>\n",
       "      <td>0</td>\n",
       "      <td>24.0</td>\n",
       "      <td>2</td>\n",
       "      <td>7.0</td>\n",
       "      <td>3.0</td>\n",
       "      <td>1</td>\n",
       "      <td>22</td>\n",
       "    </tr>\n",
       "    <tr>\n",
       "      <th>2638</th>\n",
       "      <td>1</td>\n",
       "      <td>0</td>\n",
       "      <td>24.0</td>\n",
       "      <td>5</td>\n",
       "      <td>13.0</td>\n",
       "      <td>2.0</td>\n",
       "      <td>2</td>\n",
       "      <td>15</td>\n",
       "    </tr>\n",
       "  </tbody>\n",
       "</table>\n",
       "<p>2631 rows × 8 columns</p>\n",
       "</div>"
      ],
      "text/plain": [
       "      SEX  DESIGNATION   AGE  UNIT  LEAVES REMAINING  RATINGS  PAST EXP  \\\n",
       "0       0            0  21.0     1               6.0      2.0         0   \n",
       "2       0            0  21.0     1               7.0      3.0         0   \n",
       "3       0            0  22.0     3               8.0      3.0         0   \n",
       "6       1            0  22.0     5              11.0      5.0         0   \n",
       "8       0            4  28.0     4              10.0      3.0         1   \n",
       "...   ...          ...   ...   ...               ...      ...       ...   \n",
       "2634    0            5  36.0     6              15.0      5.0        10   \n",
       "2635    0            0  23.0     3              13.0      2.0         0   \n",
       "2636    0            0  21.0     2               1.0      5.0         0   \n",
       "2637    0            0  24.0     2               7.0      3.0         1   \n",
       "2638    1            0  24.0     5              13.0      2.0         2   \n",
       "\n",
       "      Total_time_in_company  \n",
       "0                        19  \n",
       "2                        17  \n",
       "3                        33  \n",
       "6                        28  \n",
       "8                        18  \n",
       "...                     ...  \n",
       "2634                     55  \n",
       "2635                     24  \n",
       "2636                     23  \n",
       "2637                     22  \n",
       "2638                     15  \n",
       "\n",
       "[2631 rows x 8 columns]"
      ]
     },
     "execution_count": 40,
     "metadata": {},
     "output_type": "execute_result"
    }
   ],
   "source": [
    "x=df1.drop('SALARY',axis=1)\n",
    "x"
   ]
  },
  {
   "cell_type": "code",
   "execution_count": 41,
   "id": "4bd3c84d",
   "metadata": {},
   "outputs": [
    {
     "data": {
      "text/plain": [
       "0        44570\n",
       "2        40955\n",
       "3        45550\n",
       "6        40339\n",
       "8        63478\n",
       "         ...  \n",
       "2634    185977\n",
       "2635     45758\n",
       "2636     47315\n",
       "2637     45172\n",
       "2638     49176\n",
       "Name: SALARY, Length: 2631, dtype: int64"
      ]
     },
     "execution_count": 41,
     "metadata": {},
     "output_type": "execute_result"
    }
   ],
   "source": [
    "y=df1['SALARY']\n",
    "y"
   ]
  },
  {
   "cell_type": "code",
   "execution_count": 42,
   "id": "9f1c339b",
   "metadata": {},
   "outputs": [
    {
     "name": "stdout",
     "output_type": "stream",
     "text": [
      "(2631, 8)\n"
     ]
    }
   ],
   "source": [
    "print(x.shape)"
   ]
  },
  {
   "cell_type": "code",
   "execution_count": 43,
   "id": "aaf0eef0",
   "metadata": {},
   "outputs": [
    {
     "name": "stdout",
     "output_type": "stream",
     "text": [
      "(2631,)\n"
     ]
    }
   ],
   "source": [
    "print(y.shape)"
   ]
  },
  {
   "cell_type": "code",
   "execution_count": 44,
   "id": "0d081e95",
   "metadata": {},
   "outputs": [],
   "source": [
    "from sklearn.model_selection import train_test_split, GridSearchCV, RandomizedSearchCV\n",
    "X_train, X_test, y_train, y_test = train_test_split(x, y, test_size = 0.25, random_state = 0)"
   ]
  },
  {
   "cell_type": "code",
   "execution_count": 45,
   "id": "7bfb9244",
   "metadata": {},
   "outputs": [
    {
     "name": "stdout",
     "output_type": "stream",
     "text": [
      "(1973, 8)\n",
      "(658, 8)\n",
      "(1973,)\n",
      "(658,)\n"
     ]
    }
   ],
   "source": [
    "print(X_train.shape)\n",
    "print(X_test.shape)\n",
    "print(y_train.shape)\n",
    "print(y_test.shape)"
   ]
  },
  {
   "cell_type": "markdown",
   "id": "f7d9fa54",
   "metadata": {},
   "source": [
    "### feature scaling"
   ]
  },
  {
   "cell_type": "code",
   "execution_count": 46,
   "id": "893dd491",
   "metadata": {},
   "outputs": [],
   "source": [
    "from sklearn.preprocessing import StandardScaler\n",
    "sc=StandardScaler()\n",
    "X_train=sc.fit_transform(X_train)\n",
    "X_test=sc.transform(X_test)\n"
   ]
  },
  {
   "cell_type": "markdown",
   "id": "40b14c52",
   "metadata": {},
   "source": [
    "# Models\n",
    "## linear regression"
   ]
  },
  {
   "cell_type": "code",
   "execution_count": 47,
   "id": "04bc5326",
   "metadata": {},
   "outputs": [
    {
     "data": {
      "text/html": [
       "<style>#sk-container-id-1 {color: black;}#sk-container-id-1 pre{padding: 0;}#sk-container-id-1 div.sk-toggleable {background-color: white;}#sk-container-id-1 label.sk-toggleable__label {cursor: pointer;display: block;width: 100%;margin-bottom: 0;padding: 0.3em;box-sizing: border-box;text-align: center;}#sk-container-id-1 label.sk-toggleable__label-arrow:before {content: \"▸\";float: left;margin-right: 0.25em;color: #696969;}#sk-container-id-1 label.sk-toggleable__label-arrow:hover:before {color: black;}#sk-container-id-1 div.sk-estimator:hover label.sk-toggleable__label-arrow:before {color: black;}#sk-container-id-1 div.sk-toggleable__content {max-height: 0;max-width: 0;overflow: hidden;text-align: left;background-color: #f0f8ff;}#sk-container-id-1 div.sk-toggleable__content pre {margin: 0.2em;color: black;border-radius: 0.25em;background-color: #f0f8ff;}#sk-container-id-1 input.sk-toggleable__control:checked~div.sk-toggleable__content {max-height: 200px;max-width: 100%;overflow: auto;}#sk-container-id-1 input.sk-toggleable__control:checked~label.sk-toggleable__label-arrow:before {content: \"▾\";}#sk-container-id-1 div.sk-estimator input.sk-toggleable__control:checked~label.sk-toggleable__label {background-color: #d4ebff;}#sk-container-id-1 div.sk-label input.sk-toggleable__control:checked~label.sk-toggleable__label {background-color: #d4ebff;}#sk-container-id-1 input.sk-hidden--visually {border: 0;clip: rect(1px 1px 1px 1px);clip: rect(1px, 1px, 1px, 1px);height: 1px;margin: -1px;overflow: hidden;padding: 0;position: absolute;width: 1px;}#sk-container-id-1 div.sk-estimator {font-family: monospace;background-color: #f0f8ff;border: 1px dotted black;border-radius: 0.25em;box-sizing: border-box;margin-bottom: 0.5em;}#sk-container-id-1 div.sk-estimator:hover {background-color: #d4ebff;}#sk-container-id-1 div.sk-parallel-item::after {content: \"\";width: 100%;border-bottom: 1px solid gray;flex-grow: 1;}#sk-container-id-1 div.sk-label:hover label.sk-toggleable__label {background-color: #d4ebff;}#sk-container-id-1 div.sk-serial::before {content: \"\";position: absolute;border-left: 1px solid gray;box-sizing: border-box;top: 0;bottom: 0;left: 50%;z-index: 0;}#sk-container-id-1 div.sk-serial {display: flex;flex-direction: column;align-items: center;background-color: white;padding-right: 0.2em;padding-left: 0.2em;position: relative;}#sk-container-id-1 div.sk-item {position: relative;z-index: 1;}#sk-container-id-1 div.sk-parallel {display: flex;align-items: stretch;justify-content: center;background-color: white;position: relative;}#sk-container-id-1 div.sk-item::before, #sk-container-id-1 div.sk-parallel-item::before {content: \"\";position: absolute;border-left: 1px solid gray;box-sizing: border-box;top: 0;bottom: 0;left: 50%;z-index: -1;}#sk-container-id-1 div.sk-parallel-item {display: flex;flex-direction: column;z-index: 1;position: relative;background-color: white;}#sk-container-id-1 div.sk-parallel-item:first-child::after {align-self: flex-end;width: 50%;}#sk-container-id-1 div.sk-parallel-item:last-child::after {align-self: flex-start;width: 50%;}#sk-container-id-1 div.sk-parallel-item:only-child::after {width: 0;}#sk-container-id-1 div.sk-dashed-wrapped {border: 1px dashed gray;margin: 0 0.4em 0.5em 0.4em;box-sizing: border-box;padding-bottom: 0.4em;background-color: white;}#sk-container-id-1 div.sk-label label {font-family: monospace;font-weight: bold;display: inline-block;line-height: 1.2em;}#sk-container-id-1 div.sk-label-container {text-align: center;}#sk-container-id-1 div.sk-container {/* jupyter's `normalize.less` sets `[hidden] { display: none; }` but bootstrap.min.css set `[hidden] { display: none !important; }` so we also need the `!important` here to be able to override the default hidden behavior on the sphinx rendered scikit-learn.org. See: https://github.com/scikit-learn/scikit-learn/issues/21755 */display: inline-block !important;position: relative;}#sk-container-id-1 div.sk-text-repr-fallback {display: none;}</style><div id=\"sk-container-id-1\" class=\"sk-top-container\"><div class=\"sk-text-repr-fallback\"><pre>LinearRegression()</pre><b>In a Jupyter environment, please rerun this cell to show the HTML representation or trust the notebook. <br />On GitHub, the HTML representation is unable to render, please try loading this page with nbviewer.org.</b></div><div class=\"sk-container\" hidden><div class=\"sk-item\"><div class=\"sk-estimator sk-toggleable\"><input class=\"sk-toggleable__control sk-hidden--visually\" id=\"sk-estimator-id-1\" type=\"checkbox\" checked><label for=\"sk-estimator-id-1\" class=\"sk-toggleable__label sk-toggleable__label-arrow\">LinearRegression</label><div class=\"sk-toggleable__content\"><pre>LinearRegression()</pre></div></div></div></div></div>"
      ],
      "text/plain": [
       "LinearRegression()"
      ]
     },
     "execution_count": 47,
     "metadata": {},
     "output_type": "execute_result"
    }
   ],
   "source": [
    "from sklearn.linear_model import LinearRegression\n",
    "lm = LinearRegression()\n",
    "lm.fit(X_train,y_train)"
   ]
  },
  {
   "cell_type": "code",
   "execution_count": 48,
   "id": "cc3117e8",
   "metadata": {},
   "outputs": [],
   "source": [
    "y_pred= lm.predict(X_test)\n"
   ]
  },
  {
   "cell_type": "code",
   "execution_count": 49,
   "id": "83ab034a",
   "metadata": {},
   "outputs": [],
   "source": [
    "from sklearn.metrics import mean_absolute_error,mean_squared_error,r2_score\n"
   ]
  },
  {
   "cell_type": "code",
   "execution_count": 50,
   "id": "4a4c45c5",
   "metadata": {},
   "outputs": [
    {
     "data": {
      "text/plain": [
       "0.8274364988608469"
      ]
     },
     "execution_count": 50,
     "metadata": {},
     "output_type": "execute_result"
    }
   ],
   "source": [
    "acc_score=r2_score(y_test,y_pred)\n",
    "acc_score"
   ]
  },
  {
   "cell_type": "markdown",
   "id": "f558c7eb",
   "metadata": {},
   "source": [
    "### decion tree regression\n"
   ]
  },
  {
   "cell_type": "code",
   "execution_count": 51,
   "id": "9da28531",
   "metadata": {},
   "outputs": [],
   "source": [
    "from sklearn.tree import DecisionTreeRegressor\n",
    "dt=DecisionTreeRegressor()\n"
   ]
  },
  {
   "cell_type": "code",
   "execution_count": 52,
   "id": "5c7e8b7f",
   "metadata": {},
   "outputs": [],
   "source": [
    "parameter={'max_depth':[None,1,2,3,4,5,6,7,8,9,12,13,14,15,16],'min_samples_split': [2 ,5,4,6,8,9,3, 10]}"
   ]
  },
  {
   "cell_type": "code",
   "execution_count": 53,
   "id": "2a39d6ec",
   "metadata": {},
   "outputs": [
    {
     "data": {
      "text/html": [
       "<style>#sk-container-id-2 {color: black;}#sk-container-id-2 pre{padding: 0;}#sk-container-id-2 div.sk-toggleable {background-color: white;}#sk-container-id-2 label.sk-toggleable__label {cursor: pointer;display: block;width: 100%;margin-bottom: 0;padding: 0.3em;box-sizing: border-box;text-align: center;}#sk-container-id-2 label.sk-toggleable__label-arrow:before {content: \"▸\";float: left;margin-right: 0.25em;color: #696969;}#sk-container-id-2 label.sk-toggleable__label-arrow:hover:before {color: black;}#sk-container-id-2 div.sk-estimator:hover label.sk-toggleable__label-arrow:before {color: black;}#sk-container-id-2 div.sk-toggleable__content {max-height: 0;max-width: 0;overflow: hidden;text-align: left;background-color: #f0f8ff;}#sk-container-id-2 div.sk-toggleable__content pre {margin: 0.2em;color: black;border-radius: 0.25em;background-color: #f0f8ff;}#sk-container-id-2 input.sk-toggleable__control:checked~div.sk-toggleable__content {max-height: 200px;max-width: 100%;overflow: auto;}#sk-container-id-2 input.sk-toggleable__control:checked~label.sk-toggleable__label-arrow:before {content: \"▾\";}#sk-container-id-2 div.sk-estimator input.sk-toggleable__control:checked~label.sk-toggleable__label {background-color: #d4ebff;}#sk-container-id-2 div.sk-label input.sk-toggleable__control:checked~label.sk-toggleable__label {background-color: #d4ebff;}#sk-container-id-2 input.sk-hidden--visually {border: 0;clip: rect(1px 1px 1px 1px);clip: rect(1px, 1px, 1px, 1px);height: 1px;margin: -1px;overflow: hidden;padding: 0;position: absolute;width: 1px;}#sk-container-id-2 div.sk-estimator {font-family: monospace;background-color: #f0f8ff;border: 1px dotted black;border-radius: 0.25em;box-sizing: border-box;margin-bottom: 0.5em;}#sk-container-id-2 div.sk-estimator:hover {background-color: #d4ebff;}#sk-container-id-2 div.sk-parallel-item::after {content: \"\";width: 100%;border-bottom: 1px solid gray;flex-grow: 1;}#sk-container-id-2 div.sk-label:hover label.sk-toggleable__label {background-color: #d4ebff;}#sk-container-id-2 div.sk-serial::before {content: \"\";position: absolute;border-left: 1px solid gray;box-sizing: border-box;top: 0;bottom: 0;left: 50%;z-index: 0;}#sk-container-id-2 div.sk-serial {display: flex;flex-direction: column;align-items: center;background-color: white;padding-right: 0.2em;padding-left: 0.2em;position: relative;}#sk-container-id-2 div.sk-item {position: relative;z-index: 1;}#sk-container-id-2 div.sk-parallel {display: flex;align-items: stretch;justify-content: center;background-color: white;position: relative;}#sk-container-id-2 div.sk-item::before, #sk-container-id-2 div.sk-parallel-item::before {content: \"\";position: absolute;border-left: 1px solid gray;box-sizing: border-box;top: 0;bottom: 0;left: 50%;z-index: -1;}#sk-container-id-2 div.sk-parallel-item {display: flex;flex-direction: column;z-index: 1;position: relative;background-color: white;}#sk-container-id-2 div.sk-parallel-item:first-child::after {align-self: flex-end;width: 50%;}#sk-container-id-2 div.sk-parallel-item:last-child::after {align-self: flex-start;width: 50%;}#sk-container-id-2 div.sk-parallel-item:only-child::after {width: 0;}#sk-container-id-2 div.sk-dashed-wrapped {border: 1px dashed gray;margin: 0 0.4em 0.5em 0.4em;box-sizing: border-box;padding-bottom: 0.4em;background-color: white;}#sk-container-id-2 div.sk-label label {font-family: monospace;font-weight: bold;display: inline-block;line-height: 1.2em;}#sk-container-id-2 div.sk-label-container {text-align: center;}#sk-container-id-2 div.sk-container {/* jupyter's `normalize.less` sets `[hidden] { display: none; }` but bootstrap.min.css set `[hidden] { display: none !important; }` so we also need the `!important` here to be able to override the default hidden behavior on the sphinx rendered scikit-learn.org. See: https://github.com/scikit-learn/scikit-learn/issues/21755 */display: inline-block !important;position: relative;}#sk-container-id-2 div.sk-text-repr-fallback {display: none;}</style><div id=\"sk-container-id-2\" class=\"sk-top-container\"><div class=\"sk-text-repr-fallback\"><pre>GridSearchCV(cv=5, estimator=DecisionTreeRegressor(),\n",
       "             param_grid={&#x27;max_depth&#x27;: [None, 1, 2, 3, 4, 5, 6, 7, 8, 9, 12, 13,\n",
       "                                       14, 15, 16],\n",
       "                         &#x27;min_samples_split&#x27;: [2, 5, 4, 6, 8, 9, 3, 10]},\n",
       "             scoring=&#x27;neg_mean_squared_error&#x27;)</pre><b>In a Jupyter environment, please rerun this cell to show the HTML representation or trust the notebook. <br />On GitHub, the HTML representation is unable to render, please try loading this page with nbviewer.org.</b></div><div class=\"sk-container\" hidden><div class=\"sk-item sk-dashed-wrapped\"><div class=\"sk-label-container\"><div class=\"sk-label sk-toggleable\"><input class=\"sk-toggleable__control sk-hidden--visually\" id=\"sk-estimator-id-2\" type=\"checkbox\" ><label for=\"sk-estimator-id-2\" class=\"sk-toggleable__label sk-toggleable__label-arrow\">GridSearchCV</label><div class=\"sk-toggleable__content\"><pre>GridSearchCV(cv=5, estimator=DecisionTreeRegressor(),\n",
       "             param_grid={&#x27;max_depth&#x27;: [None, 1, 2, 3, 4, 5, 6, 7, 8, 9, 12, 13,\n",
       "                                       14, 15, 16],\n",
       "                         &#x27;min_samples_split&#x27;: [2, 5, 4, 6, 8, 9, 3, 10]},\n",
       "             scoring=&#x27;neg_mean_squared_error&#x27;)</pre></div></div></div><div class=\"sk-parallel\"><div class=\"sk-parallel-item\"><div class=\"sk-item\"><div class=\"sk-label-container\"><div class=\"sk-label sk-toggleable\"><input class=\"sk-toggleable__control sk-hidden--visually\" id=\"sk-estimator-id-3\" type=\"checkbox\" ><label for=\"sk-estimator-id-3\" class=\"sk-toggleable__label sk-toggleable__label-arrow\">estimator: DecisionTreeRegressor</label><div class=\"sk-toggleable__content\"><pre>DecisionTreeRegressor()</pre></div></div></div><div class=\"sk-serial\"><div class=\"sk-item\"><div class=\"sk-estimator sk-toggleable\"><input class=\"sk-toggleable__control sk-hidden--visually\" id=\"sk-estimator-id-4\" type=\"checkbox\" ><label for=\"sk-estimator-id-4\" class=\"sk-toggleable__label sk-toggleable__label-arrow\">DecisionTreeRegressor</label><div class=\"sk-toggleable__content\"><pre>DecisionTreeRegressor()</pre></div></div></div></div></div></div></div></div></div></div>"
      ],
      "text/plain": [
       "GridSearchCV(cv=5, estimator=DecisionTreeRegressor(),\n",
       "             param_grid={'max_depth': [None, 1, 2, 3, 4, 5, 6, 7, 8, 9, 12, 13,\n",
       "                                       14, 15, 16],\n",
       "                         'min_samples_split': [2, 5, 4, 6, 8, 9, 3, 10]},\n",
       "             scoring='neg_mean_squared_error')"
      ]
     },
     "execution_count": 53,
     "metadata": {},
     "output_type": "execute_result"
    }
   ],
   "source": [
    "g_search = GridSearchCV(estimator=dt, param_grid=parameter, cv=5, scoring='neg_mean_squared_error')\n",
    "g_search.fit(X_train, y_train)"
   ]
  },
  {
   "cell_type": "code",
   "execution_count": 54,
   "id": "be275455",
   "metadata": {},
   "outputs": [],
   "source": [
    "# Get the best hyperparameters\n",
    "best_params = g_search.best_params_\n",
    "best_max_depth = best_params['max_depth']\n",
    "best_min_samples_split = best_params['min_samples_split']"
   ]
  },
  {
   "cell_type": "code",
   "execution_count": 55,
   "id": "52df4276",
   "metadata": {},
   "outputs": [
    {
     "name": "stdout",
     "output_type": "stream",
     "text": [
      "5\n"
     ]
    }
   ],
   "source": [
    "print(best_max_depth)"
   ]
  },
  {
   "cell_type": "code",
   "execution_count": 56,
   "id": "ae4a588e",
   "metadata": {},
   "outputs": [
    {
     "name": "stdout",
     "output_type": "stream",
     "text": [
      "5\n"
     ]
    }
   ],
   "source": [
    "print(best_min_samples_split)"
   ]
  },
  {
   "cell_type": "code",
   "execution_count": 57,
   "id": "465a891a",
   "metadata": {},
   "outputs": [
    {
     "data": {
      "text/html": [
       "<style>#sk-container-id-3 {color: black;}#sk-container-id-3 pre{padding: 0;}#sk-container-id-3 div.sk-toggleable {background-color: white;}#sk-container-id-3 label.sk-toggleable__label {cursor: pointer;display: block;width: 100%;margin-bottom: 0;padding: 0.3em;box-sizing: border-box;text-align: center;}#sk-container-id-3 label.sk-toggleable__label-arrow:before {content: \"▸\";float: left;margin-right: 0.25em;color: #696969;}#sk-container-id-3 label.sk-toggleable__label-arrow:hover:before {color: black;}#sk-container-id-3 div.sk-estimator:hover label.sk-toggleable__label-arrow:before {color: black;}#sk-container-id-3 div.sk-toggleable__content {max-height: 0;max-width: 0;overflow: hidden;text-align: left;background-color: #f0f8ff;}#sk-container-id-3 div.sk-toggleable__content pre {margin: 0.2em;color: black;border-radius: 0.25em;background-color: #f0f8ff;}#sk-container-id-3 input.sk-toggleable__control:checked~div.sk-toggleable__content {max-height: 200px;max-width: 100%;overflow: auto;}#sk-container-id-3 input.sk-toggleable__control:checked~label.sk-toggleable__label-arrow:before {content: \"▾\";}#sk-container-id-3 div.sk-estimator input.sk-toggleable__control:checked~label.sk-toggleable__label {background-color: #d4ebff;}#sk-container-id-3 div.sk-label input.sk-toggleable__control:checked~label.sk-toggleable__label {background-color: #d4ebff;}#sk-container-id-3 input.sk-hidden--visually {border: 0;clip: rect(1px 1px 1px 1px);clip: rect(1px, 1px, 1px, 1px);height: 1px;margin: -1px;overflow: hidden;padding: 0;position: absolute;width: 1px;}#sk-container-id-3 div.sk-estimator {font-family: monospace;background-color: #f0f8ff;border: 1px dotted black;border-radius: 0.25em;box-sizing: border-box;margin-bottom: 0.5em;}#sk-container-id-3 div.sk-estimator:hover {background-color: #d4ebff;}#sk-container-id-3 div.sk-parallel-item::after {content: \"\";width: 100%;border-bottom: 1px solid gray;flex-grow: 1;}#sk-container-id-3 div.sk-label:hover label.sk-toggleable__label {background-color: #d4ebff;}#sk-container-id-3 div.sk-serial::before {content: \"\";position: absolute;border-left: 1px solid gray;box-sizing: border-box;top: 0;bottom: 0;left: 50%;z-index: 0;}#sk-container-id-3 div.sk-serial {display: flex;flex-direction: column;align-items: center;background-color: white;padding-right: 0.2em;padding-left: 0.2em;position: relative;}#sk-container-id-3 div.sk-item {position: relative;z-index: 1;}#sk-container-id-3 div.sk-parallel {display: flex;align-items: stretch;justify-content: center;background-color: white;position: relative;}#sk-container-id-3 div.sk-item::before, #sk-container-id-3 div.sk-parallel-item::before {content: \"\";position: absolute;border-left: 1px solid gray;box-sizing: border-box;top: 0;bottom: 0;left: 50%;z-index: -1;}#sk-container-id-3 div.sk-parallel-item {display: flex;flex-direction: column;z-index: 1;position: relative;background-color: white;}#sk-container-id-3 div.sk-parallel-item:first-child::after {align-self: flex-end;width: 50%;}#sk-container-id-3 div.sk-parallel-item:last-child::after {align-self: flex-start;width: 50%;}#sk-container-id-3 div.sk-parallel-item:only-child::after {width: 0;}#sk-container-id-3 div.sk-dashed-wrapped {border: 1px dashed gray;margin: 0 0.4em 0.5em 0.4em;box-sizing: border-box;padding-bottom: 0.4em;background-color: white;}#sk-container-id-3 div.sk-label label {font-family: monospace;font-weight: bold;display: inline-block;line-height: 1.2em;}#sk-container-id-3 div.sk-label-container {text-align: center;}#sk-container-id-3 div.sk-container {/* jupyter's `normalize.less` sets `[hidden] { display: none; }` but bootstrap.min.css set `[hidden] { display: none !important; }` so we also need the `!important` here to be able to override the default hidden behavior on the sphinx rendered scikit-learn.org. See: https://github.com/scikit-learn/scikit-learn/issues/21755 */display: inline-block !important;position: relative;}#sk-container-id-3 div.sk-text-repr-fallback {display: none;}</style><div id=\"sk-container-id-3\" class=\"sk-top-container\"><div class=\"sk-text-repr-fallback\"><pre>DecisionTreeRegressor(max_depth=5, min_samples_split=5)</pre><b>In a Jupyter environment, please rerun this cell to show the HTML representation or trust the notebook. <br />On GitHub, the HTML representation is unable to render, please try loading this page with nbviewer.org.</b></div><div class=\"sk-container\" hidden><div class=\"sk-item\"><div class=\"sk-estimator sk-toggleable\"><input class=\"sk-toggleable__control sk-hidden--visually\" id=\"sk-estimator-id-5\" type=\"checkbox\" checked><label for=\"sk-estimator-id-5\" class=\"sk-toggleable__label sk-toggleable__label-arrow\">DecisionTreeRegressor</label><div class=\"sk-toggleable__content\"><pre>DecisionTreeRegressor(max_depth=5, min_samples_split=5)</pre></div></div></div></div></div>"
      ],
      "text/plain": [
       "DecisionTreeRegressor(max_depth=5, min_samples_split=5)"
      ]
     },
     "execution_count": 57,
     "metadata": {},
     "output_type": "execute_result"
    }
   ],
   "source": [
    "\n",
    "best_model = DecisionTreeRegressor(max_depth=best_max_depth, min_samples_split=best_min_samples_split)\n",
    "best_model.fit(X_train, y_train)"
   ]
  },
  {
   "cell_type": "code",
   "execution_count": 58,
   "id": "067069a1",
   "metadata": {},
   "outputs": [],
   "source": [
    "# predict thr result\n",
    "y_pred1= best_model.predict(X_test)"
   ]
  },
  {
   "cell_type": "code",
   "execution_count": 59,
   "id": "719a5118",
   "metadata": {},
   "outputs": [
    {
     "data": {
      "text/plain": [
       "0.9548300627743835"
      ]
     },
     "execution_count": 59,
     "metadata": {},
     "output_type": "execute_result"
    }
   ],
   "source": [
    "acc_score1=r2_score(y_test,y_pred1)\n",
    "acc_score1"
   ]
  },
  {
   "cell_type": "code",
   "execution_count": 60,
   "id": "8a044aa0",
   "metadata": {},
   "outputs": [
    {
     "data": {
      "text/plain": [
       "55559576.272875406"
      ]
     },
     "execution_count": 60,
     "metadata": {},
     "output_type": "execute_result"
    }
   ],
   "source": [
    "mse=mean_squared_error(y_test,y_pred1)\n",
    "mse"
   ]
  },
  {
   "cell_type": "markdown",
   "id": "fc1bce91",
   "metadata": {},
   "source": [
    "### random forest"
   ]
  },
  {
   "cell_type": "code",
   "execution_count": 61,
   "id": "5174abac",
   "metadata": {},
   "outputs": [],
   "source": [
    "from sklearn.ensemble import RandomForestRegressor\n",
    "rf = RandomForestRegressor()\n"
   ]
  },
  {
   "cell_type": "code",
   "execution_count": 62,
   "id": "8c6e4c83",
   "metadata": {},
   "outputs": [],
   "source": [
    "paramter={\n",
    "         'criterion':['squared_error','absolute_error'],\n",
    "         'max_depth':[2,3,4,6,8,10,20,12,16,18],\n",
    "         'min_samples_split':[3,2,5,7,8,9,10,13,12]\n",
    "}"
   ]
  },
  {
   "cell_type": "code",
   "execution_count": 63,
   "id": "f5d842f9",
   "metadata": {},
   "outputs": [
    {
     "data": {
      "text/html": [
       "<style>#sk-container-id-4 {color: black;}#sk-container-id-4 pre{padding: 0;}#sk-container-id-4 div.sk-toggleable {background-color: white;}#sk-container-id-4 label.sk-toggleable__label {cursor: pointer;display: block;width: 100%;margin-bottom: 0;padding: 0.3em;box-sizing: border-box;text-align: center;}#sk-container-id-4 label.sk-toggleable__label-arrow:before {content: \"▸\";float: left;margin-right: 0.25em;color: #696969;}#sk-container-id-4 label.sk-toggleable__label-arrow:hover:before {color: black;}#sk-container-id-4 div.sk-estimator:hover label.sk-toggleable__label-arrow:before {color: black;}#sk-container-id-4 div.sk-toggleable__content {max-height: 0;max-width: 0;overflow: hidden;text-align: left;background-color: #f0f8ff;}#sk-container-id-4 div.sk-toggleable__content pre {margin: 0.2em;color: black;border-radius: 0.25em;background-color: #f0f8ff;}#sk-container-id-4 input.sk-toggleable__control:checked~div.sk-toggleable__content {max-height: 200px;max-width: 100%;overflow: auto;}#sk-container-id-4 input.sk-toggleable__control:checked~label.sk-toggleable__label-arrow:before {content: \"▾\";}#sk-container-id-4 div.sk-estimator input.sk-toggleable__control:checked~label.sk-toggleable__label {background-color: #d4ebff;}#sk-container-id-4 div.sk-label input.sk-toggleable__control:checked~label.sk-toggleable__label {background-color: #d4ebff;}#sk-container-id-4 input.sk-hidden--visually {border: 0;clip: rect(1px 1px 1px 1px);clip: rect(1px, 1px, 1px, 1px);height: 1px;margin: -1px;overflow: hidden;padding: 0;position: absolute;width: 1px;}#sk-container-id-4 div.sk-estimator {font-family: monospace;background-color: #f0f8ff;border: 1px dotted black;border-radius: 0.25em;box-sizing: border-box;margin-bottom: 0.5em;}#sk-container-id-4 div.sk-estimator:hover {background-color: #d4ebff;}#sk-container-id-4 div.sk-parallel-item::after {content: \"\";width: 100%;border-bottom: 1px solid gray;flex-grow: 1;}#sk-container-id-4 div.sk-label:hover label.sk-toggleable__label {background-color: #d4ebff;}#sk-container-id-4 div.sk-serial::before {content: \"\";position: absolute;border-left: 1px solid gray;box-sizing: border-box;top: 0;bottom: 0;left: 50%;z-index: 0;}#sk-container-id-4 div.sk-serial {display: flex;flex-direction: column;align-items: center;background-color: white;padding-right: 0.2em;padding-left: 0.2em;position: relative;}#sk-container-id-4 div.sk-item {position: relative;z-index: 1;}#sk-container-id-4 div.sk-parallel {display: flex;align-items: stretch;justify-content: center;background-color: white;position: relative;}#sk-container-id-4 div.sk-item::before, #sk-container-id-4 div.sk-parallel-item::before {content: \"\";position: absolute;border-left: 1px solid gray;box-sizing: border-box;top: 0;bottom: 0;left: 50%;z-index: -1;}#sk-container-id-4 div.sk-parallel-item {display: flex;flex-direction: column;z-index: 1;position: relative;background-color: white;}#sk-container-id-4 div.sk-parallel-item:first-child::after {align-self: flex-end;width: 50%;}#sk-container-id-4 div.sk-parallel-item:last-child::after {align-self: flex-start;width: 50%;}#sk-container-id-4 div.sk-parallel-item:only-child::after {width: 0;}#sk-container-id-4 div.sk-dashed-wrapped {border: 1px dashed gray;margin: 0 0.4em 0.5em 0.4em;box-sizing: border-box;padding-bottom: 0.4em;background-color: white;}#sk-container-id-4 div.sk-label label {font-family: monospace;font-weight: bold;display: inline-block;line-height: 1.2em;}#sk-container-id-4 div.sk-label-container {text-align: center;}#sk-container-id-4 div.sk-container {/* jupyter's `normalize.less` sets `[hidden] { display: none; }` but bootstrap.min.css set `[hidden] { display: none !important; }` so we also need the `!important` here to be able to override the default hidden behavior on the sphinx rendered scikit-learn.org. See: https://github.com/scikit-learn/scikit-learn/issues/21755 */display: inline-block !important;position: relative;}#sk-container-id-4 div.sk-text-repr-fallback {display: none;}</style><div id=\"sk-container-id-4\" class=\"sk-top-container\"><div class=\"sk-text-repr-fallback\"><pre>RandomizedSearchCV(cv=5, estimator=RandomForestRegressor(),\n",
       "                   param_distributions={&#x27;criterion&#x27;: [&#x27;squared_error&#x27;,\n",
       "                                                      &#x27;absolute_error&#x27;],\n",
       "                                        &#x27;max_depth&#x27;: [2, 3, 4, 6, 8, 10, 20, 12,\n",
       "                                                      16, 18],\n",
       "                                        &#x27;min_samples_split&#x27;: [3, 2, 5, 7, 8, 9,\n",
       "                                                              10, 13, 12]},\n",
       "                   scoring=&#x27;neg_mean_squared_error&#x27;)</pre><b>In a Jupyter environment, please rerun this cell to show the HTML representation or trust the notebook. <br />On GitHub, the HTML representation is unable to render, please try loading this page with nbviewer.org.</b></div><div class=\"sk-container\" hidden><div class=\"sk-item sk-dashed-wrapped\"><div class=\"sk-label-container\"><div class=\"sk-label sk-toggleable\"><input class=\"sk-toggleable__control sk-hidden--visually\" id=\"sk-estimator-id-6\" type=\"checkbox\" ><label for=\"sk-estimator-id-6\" class=\"sk-toggleable__label sk-toggleable__label-arrow\">RandomizedSearchCV</label><div class=\"sk-toggleable__content\"><pre>RandomizedSearchCV(cv=5, estimator=RandomForestRegressor(),\n",
       "                   param_distributions={&#x27;criterion&#x27;: [&#x27;squared_error&#x27;,\n",
       "                                                      &#x27;absolute_error&#x27;],\n",
       "                                        &#x27;max_depth&#x27;: [2, 3, 4, 6, 8, 10, 20, 12,\n",
       "                                                      16, 18],\n",
       "                                        &#x27;min_samples_split&#x27;: [3, 2, 5, 7, 8, 9,\n",
       "                                                              10, 13, 12]},\n",
       "                   scoring=&#x27;neg_mean_squared_error&#x27;)</pre></div></div></div><div class=\"sk-parallel\"><div class=\"sk-parallel-item\"><div class=\"sk-item\"><div class=\"sk-label-container\"><div class=\"sk-label sk-toggleable\"><input class=\"sk-toggleable__control sk-hidden--visually\" id=\"sk-estimator-id-7\" type=\"checkbox\" ><label for=\"sk-estimator-id-7\" class=\"sk-toggleable__label sk-toggleable__label-arrow\">estimator: RandomForestRegressor</label><div class=\"sk-toggleable__content\"><pre>RandomForestRegressor()</pre></div></div></div><div class=\"sk-serial\"><div class=\"sk-item\"><div class=\"sk-estimator sk-toggleable\"><input class=\"sk-toggleable__control sk-hidden--visually\" id=\"sk-estimator-id-8\" type=\"checkbox\" ><label for=\"sk-estimator-id-8\" class=\"sk-toggleable__label sk-toggleable__label-arrow\">RandomForestRegressor</label><div class=\"sk-toggleable__content\"><pre>RandomForestRegressor()</pre></div></div></div></div></div></div></div></div></div></div>"
      ],
      "text/plain": [
       "RandomizedSearchCV(cv=5, estimator=RandomForestRegressor(),\n",
       "                   param_distributions={'criterion': ['squared_error',\n",
       "                                                      'absolute_error'],\n",
       "                                        'max_depth': [2, 3, 4, 6, 8, 10, 20, 12,\n",
       "                                                      16, 18],\n",
       "                                        'min_samples_split': [3, 2, 5, 7, 8, 9,\n",
       "                                                              10, 13, 12]},\n",
       "                   scoring='neg_mean_squared_error')"
      ]
     },
     "execution_count": 63,
     "metadata": {},
     "output_type": "execute_result"
    }
   ],
   "source": [
    "g_search = RandomizedSearchCV(estimator=rf, param_distributions=paramter, cv=5, scoring='neg_mean_squared_error')\n",
    "g_search.fit(X_train, y_train)"
   ]
  },
  {
   "cell_type": "code",
   "execution_count": 64,
   "id": "5077f059",
   "metadata": {},
   "outputs": [
    {
     "data": {
      "text/html": [
       "<style>#sk-container-id-5 {color: black;}#sk-container-id-5 pre{padding: 0;}#sk-container-id-5 div.sk-toggleable {background-color: white;}#sk-container-id-5 label.sk-toggleable__label {cursor: pointer;display: block;width: 100%;margin-bottom: 0;padding: 0.3em;box-sizing: border-box;text-align: center;}#sk-container-id-5 label.sk-toggleable__label-arrow:before {content: \"▸\";float: left;margin-right: 0.25em;color: #696969;}#sk-container-id-5 label.sk-toggleable__label-arrow:hover:before {color: black;}#sk-container-id-5 div.sk-estimator:hover label.sk-toggleable__label-arrow:before {color: black;}#sk-container-id-5 div.sk-toggleable__content {max-height: 0;max-width: 0;overflow: hidden;text-align: left;background-color: #f0f8ff;}#sk-container-id-5 div.sk-toggleable__content pre {margin: 0.2em;color: black;border-radius: 0.25em;background-color: #f0f8ff;}#sk-container-id-5 input.sk-toggleable__control:checked~div.sk-toggleable__content {max-height: 200px;max-width: 100%;overflow: auto;}#sk-container-id-5 input.sk-toggleable__control:checked~label.sk-toggleable__label-arrow:before {content: \"▾\";}#sk-container-id-5 div.sk-estimator input.sk-toggleable__control:checked~label.sk-toggleable__label {background-color: #d4ebff;}#sk-container-id-5 div.sk-label input.sk-toggleable__control:checked~label.sk-toggleable__label {background-color: #d4ebff;}#sk-container-id-5 input.sk-hidden--visually {border: 0;clip: rect(1px 1px 1px 1px);clip: rect(1px, 1px, 1px, 1px);height: 1px;margin: -1px;overflow: hidden;padding: 0;position: absolute;width: 1px;}#sk-container-id-5 div.sk-estimator {font-family: monospace;background-color: #f0f8ff;border: 1px dotted black;border-radius: 0.25em;box-sizing: border-box;margin-bottom: 0.5em;}#sk-container-id-5 div.sk-estimator:hover {background-color: #d4ebff;}#sk-container-id-5 div.sk-parallel-item::after {content: \"\";width: 100%;border-bottom: 1px solid gray;flex-grow: 1;}#sk-container-id-5 div.sk-label:hover label.sk-toggleable__label {background-color: #d4ebff;}#sk-container-id-5 div.sk-serial::before {content: \"\";position: absolute;border-left: 1px solid gray;box-sizing: border-box;top: 0;bottom: 0;left: 50%;z-index: 0;}#sk-container-id-5 div.sk-serial {display: flex;flex-direction: column;align-items: center;background-color: white;padding-right: 0.2em;padding-left: 0.2em;position: relative;}#sk-container-id-5 div.sk-item {position: relative;z-index: 1;}#sk-container-id-5 div.sk-parallel {display: flex;align-items: stretch;justify-content: center;background-color: white;position: relative;}#sk-container-id-5 div.sk-item::before, #sk-container-id-5 div.sk-parallel-item::before {content: \"\";position: absolute;border-left: 1px solid gray;box-sizing: border-box;top: 0;bottom: 0;left: 50%;z-index: -1;}#sk-container-id-5 div.sk-parallel-item {display: flex;flex-direction: column;z-index: 1;position: relative;background-color: white;}#sk-container-id-5 div.sk-parallel-item:first-child::after {align-self: flex-end;width: 50%;}#sk-container-id-5 div.sk-parallel-item:last-child::after {align-self: flex-start;width: 50%;}#sk-container-id-5 div.sk-parallel-item:only-child::after {width: 0;}#sk-container-id-5 div.sk-dashed-wrapped {border: 1px dashed gray;margin: 0 0.4em 0.5em 0.4em;box-sizing: border-box;padding-bottom: 0.4em;background-color: white;}#sk-container-id-5 div.sk-label label {font-family: monospace;font-weight: bold;display: inline-block;line-height: 1.2em;}#sk-container-id-5 div.sk-label-container {text-align: center;}#sk-container-id-5 div.sk-container {/* jupyter's `normalize.less` sets `[hidden] { display: none; }` but bootstrap.min.css set `[hidden] { display: none !important; }` so we also need the `!important` here to be able to override the default hidden behavior on the sphinx rendered scikit-learn.org. See: https://github.com/scikit-learn/scikit-learn/issues/21755 */display: inline-block !important;position: relative;}#sk-container-id-5 div.sk-text-repr-fallback {display: none;}</style><div id=\"sk-container-id-5\" class=\"sk-top-container\"><div class=\"sk-text-repr-fallback\"><pre>RandomizedSearchCV(cv=5, estimator=RandomForestRegressor(),\n",
       "                   param_distributions={&#x27;criterion&#x27;: [&#x27;squared_error&#x27;,\n",
       "                                                      &#x27;absolute_error&#x27;],\n",
       "                                        &#x27;max_depth&#x27;: [2, 3, 4, 6, 8, 10, 20, 12,\n",
       "                                                      16, 18],\n",
       "                                        &#x27;min_samples_split&#x27;: [3, 2, 5, 7, 8, 9,\n",
       "                                                              10, 13, 12]},\n",
       "                   scoring=&#x27;neg_mean_squared_error&#x27;)</pre><b>In a Jupyter environment, please rerun this cell to show the HTML representation or trust the notebook. <br />On GitHub, the HTML representation is unable to render, please try loading this page with nbviewer.org.</b></div><div class=\"sk-container\" hidden><div class=\"sk-item sk-dashed-wrapped\"><div class=\"sk-label-container\"><div class=\"sk-label sk-toggleable\"><input class=\"sk-toggleable__control sk-hidden--visually\" id=\"sk-estimator-id-9\" type=\"checkbox\" ><label for=\"sk-estimator-id-9\" class=\"sk-toggleable__label sk-toggleable__label-arrow\">RandomizedSearchCV</label><div class=\"sk-toggleable__content\"><pre>RandomizedSearchCV(cv=5, estimator=RandomForestRegressor(),\n",
       "                   param_distributions={&#x27;criterion&#x27;: [&#x27;squared_error&#x27;,\n",
       "                                                      &#x27;absolute_error&#x27;],\n",
       "                                        &#x27;max_depth&#x27;: [2, 3, 4, 6, 8, 10, 20, 12,\n",
       "                                                      16, 18],\n",
       "                                        &#x27;min_samples_split&#x27;: [3, 2, 5, 7, 8, 9,\n",
       "                                                              10, 13, 12]},\n",
       "                   scoring=&#x27;neg_mean_squared_error&#x27;)</pre></div></div></div><div class=\"sk-parallel\"><div class=\"sk-parallel-item\"><div class=\"sk-item\"><div class=\"sk-label-container\"><div class=\"sk-label sk-toggleable\"><input class=\"sk-toggleable__control sk-hidden--visually\" id=\"sk-estimator-id-10\" type=\"checkbox\" ><label for=\"sk-estimator-id-10\" class=\"sk-toggleable__label sk-toggleable__label-arrow\">estimator: RandomForestRegressor</label><div class=\"sk-toggleable__content\"><pre>RandomForestRegressor()</pre></div></div></div><div class=\"sk-serial\"><div class=\"sk-item\"><div class=\"sk-estimator sk-toggleable\"><input class=\"sk-toggleable__control sk-hidden--visually\" id=\"sk-estimator-id-11\" type=\"checkbox\" ><label for=\"sk-estimator-id-11\" class=\"sk-toggleable__label sk-toggleable__label-arrow\">RandomForestRegressor</label><div class=\"sk-toggleable__content\"><pre>RandomForestRegressor()</pre></div></div></div></div></div></div></div></div></div></div>"
      ],
      "text/plain": [
       "RandomizedSearchCV(cv=5, estimator=RandomForestRegressor(),\n",
       "                   param_distributions={'criterion': ['squared_error',\n",
       "                                                      'absolute_error'],\n",
       "                                        'max_depth': [2, 3, 4, 6, 8, 10, 20, 12,\n",
       "                                                      16, 18],\n",
       "                                        'min_samples_split': [3, 2, 5, 7, 8, 9,\n",
       "                                                              10, 13, 12]},\n",
       "                   scoring='neg_mean_squared_error')"
      ]
     },
     "execution_count": 64,
     "metadata": {},
     "output_type": "execute_result"
    }
   ],
   "source": [
    "g_search = RandomizedSearchCV(estimator=rf, param_distributions=paramter, cv=5, scoring='neg_mean_squared_error')\n",
    "g_search.fit(X_train, y_train)"
   ]
  },
  {
   "cell_type": "code",
   "execution_count": 65,
   "id": "79a8e419",
   "metadata": {},
   "outputs": [],
   "source": [
    "best_param = g_search.best_params_\n",
    "best_criterion=best_param['criterion']\n",
    "best_max_depth=best_param['max_depth']\n",
    "best_min_samples_split=best_param['min_samples_split']"
   ]
  },
  {
   "cell_type": "code",
   "execution_count": 66,
   "id": "0d1dba5b",
   "metadata": {},
   "outputs": [
    {
     "name": "stdout",
     "output_type": "stream",
     "text": [
      "squared_error\n",
      "20\n",
      "7\n"
     ]
    }
   ],
   "source": [
    "print(best_criterion)\n",
    "print(best_max_depth)\n",
    "print(best_min_samples_split)"
   ]
  },
  {
   "cell_type": "code",
   "execution_count": 67,
   "id": "56c4931a",
   "metadata": {},
   "outputs": [
    {
     "data": {
      "text/html": [
       "<style>#sk-container-id-6 {color: black;}#sk-container-id-6 pre{padding: 0;}#sk-container-id-6 div.sk-toggleable {background-color: white;}#sk-container-id-6 label.sk-toggleable__label {cursor: pointer;display: block;width: 100%;margin-bottom: 0;padding: 0.3em;box-sizing: border-box;text-align: center;}#sk-container-id-6 label.sk-toggleable__label-arrow:before {content: \"▸\";float: left;margin-right: 0.25em;color: #696969;}#sk-container-id-6 label.sk-toggleable__label-arrow:hover:before {color: black;}#sk-container-id-6 div.sk-estimator:hover label.sk-toggleable__label-arrow:before {color: black;}#sk-container-id-6 div.sk-toggleable__content {max-height: 0;max-width: 0;overflow: hidden;text-align: left;background-color: #f0f8ff;}#sk-container-id-6 div.sk-toggleable__content pre {margin: 0.2em;color: black;border-radius: 0.25em;background-color: #f0f8ff;}#sk-container-id-6 input.sk-toggleable__control:checked~div.sk-toggleable__content {max-height: 200px;max-width: 100%;overflow: auto;}#sk-container-id-6 input.sk-toggleable__control:checked~label.sk-toggleable__label-arrow:before {content: \"▾\";}#sk-container-id-6 div.sk-estimator input.sk-toggleable__control:checked~label.sk-toggleable__label {background-color: #d4ebff;}#sk-container-id-6 div.sk-label input.sk-toggleable__control:checked~label.sk-toggleable__label {background-color: #d4ebff;}#sk-container-id-6 input.sk-hidden--visually {border: 0;clip: rect(1px 1px 1px 1px);clip: rect(1px, 1px, 1px, 1px);height: 1px;margin: -1px;overflow: hidden;padding: 0;position: absolute;width: 1px;}#sk-container-id-6 div.sk-estimator {font-family: monospace;background-color: #f0f8ff;border: 1px dotted black;border-radius: 0.25em;box-sizing: border-box;margin-bottom: 0.5em;}#sk-container-id-6 div.sk-estimator:hover {background-color: #d4ebff;}#sk-container-id-6 div.sk-parallel-item::after {content: \"\";width: 100%;border-bottom: 1px solid gray;flex-grow: 1;}#sk-container-id-6 div.sk-label:hover label.sk-toggleable__label {background-color: #d4ebff;}#sk-container-id-6 div.sk-serial::before {content: \"\";position: absolute;border-left: 1px solid gray;box-sizing: border-box;top: 0;bottom: 0;left: 50%;z-index: 0;}#sk-container-id-6 div.sk-serial {display: flex;flex-direction: column;align-items: center;background-color: white;padding-right: 0.2em;padding-left: 0.2em;position: relative;}#sk-container-id-6 div.sk-item {position: relative;z-index: 1;}#sk-container-id-6 div.sk-parallel {display: flex;align-items: stretch;justify-content: center;background-color: white;position: relative;}#sk-container-id-6 div.sk-item::before, #sk-container-id-6 div.sk-parallel-item::before {content: \"\";position: absolute;border-left: 1px solid gray;box-sizing: border-box;top: 0;bottom: 0;left: 50%;z-index: -1;}#sk-container-id-6 div.sk-parallel-item {display: flex;flex-direction: column;z-index: 1;position: relative;background-color: white;}#sk-container-id-6 div.sk-parallel-item:first-child::after {align-self: flex-end;width: 50%;}#sk-container-id-6 div.sk-parallel-item:last-child::after {align-self: flex-start;width: 50%;}#sk-container-id-6 div.sk-parallel-item:only-child::after {width: 0;}#sk-container-id-6 div.sk-dashed-wrapped {border: 1px dashed gray;margin: 0 0.4em 0.5em 0.4em;box-sizing: border-box;padding-bottom: 0.4em;background-color: white;}#sk-container-id-6 div.sk-label label {font-family: monospace;font-weight: bold;display: inline-block;line-height: 1.2em;}#sk-container-id-6 div.sk-label-container {text-align: center;}#sk-container-id-6 div.sk-container {/* jupyter's `normalize.less` sets `[hidden] { display: none; }` but bootstrap.min.css set `[hidden] { display: none !important; }` so we also need the `!important` here to be able to override the default hidden behavior on the sphinx rendered scikit-learn.org. See: https://github.com/scikit-learn/scikit-learn/issues/21755 */display: inline-block !important;position: relative;}#sk-container-id-6 div.sk-text-repr-fallback {display: none;}</style><div id=\"sk-container-id-6\" class=\"sk-top-container\"><div class=\"sk-text-repr-fallback\"><pre>RandomForestRegressor(max_depth=20, min_samples_split=7)</pre><b>In a Jupyter environment, please rerun this cell to show the HTML representation or trust the notebook. <br />On GitHub, the HTML representation is unable to render, please try loading this page with nbviewer.org.</b></div><div class=\"sk-container\" hidden><div class=\"sk-item\"><div class=\"sk-estimator sk-toggleable\"><input class=\"sk-toggleable__control sk-hidden--visually\" id=\"sk-estimator-id-12\" type=\"checkbox\" checked><label for=\"sk-estimator-id-12\" class=\"sk-toggleable__label sk-toggleable__label-arrow\">RandomForestRegressor</label><div class=\"sk-toggleable__content\"><pre>RandomForestRegressor(max_depth=20, min_samples_split=7)</pre></div></div></div></div></div>"
      ],
      "text/plain": [
       "RandomForestRegressor(max_depth=20, min_samples_split=7)"
      ]
     },
     "execution_count": 67,
     "metadata": {},
     "output_type": "execute_result"
    }
   ],
   "source": [
    "best_model = RandomForestRegressor(criterion=best_criterion,max_depth=best_max_depth,min_samples_split=best_min_samples_split)\n",
    "best_model.fit(X_train,y_train)"
   ]
  },
  {
   "cell_type": "code",
   "execution_count": 68,
   "id": "eef246e8",
   "metadata": {},
   "outputs": [
    {
     "data": {
      "text/plain": [
       "array([ 44902.54225298,  45714.16031799,  88911.23621212,  44940.78036525,\n",
       "        45478.91438503,  44327.52358525,  44347.06048946,  45380.58939481,\n",
       "        45237.40551401,  45043.89275322,  45785.34509461, 185606.77756205,\n",
       "        44304.10435937,  47349.7990714 ,  45227.72662775,  44538.50344012,\n",
       "        45835.78655403,  44957.66685767,  44691.88645091,  44927.15006765,\n",
       "        61647.13177758, 263742.3285467 ,  44387.25752602, 118469.16568687,\n",
       "        53904.01804584,  43674.68140987,  44633.47015188,  45846.439975  ,\n",
       "        44466.52947655,  44049.93724838,  83012.86069467,  61635.30587948,\n",
       "        45374.92935908,  44452.62877502,  44348.30691775,  44835.36673233,\n",
       "        44847.02118203,  45435.05364769,  44268.23261688,  46162.66665533,\n",
       "        45360.00386324,  46109.72024603,  60927.40946662,  46237.58781512,\n",
       "        45446.11312734,  45716.40580021,  44234.651821  ,  84822.80951435,\n",
       "        56991.42627706,  46611.08795101,  45908.70824631,  44158.54587696,\n",
       "        43825.76892847,  57069.79270563, 129247.62079473,  45816.16323052,\n",
       "        44975.78674517,  59667.36807723,  87385.44284488,  44770.53740779,\n",
       "        44436.09493615,  91006.3732548 ,  43700.72644192,  47435.29687157,\n",
       "       123247.31872294,  86798.49843362,  45352.47874287,  87645.38744769,\n",
       "        44804.55550658, 118892.93771717,  43802.80069972,  43856.43549361,\n",
       "        45007.55780825,  61377.43252289, 115412.68357604, 307934.7142086 ,\n",
       "        44396.94098829,  45835.34269442, 182595.32866789,  58029.64405963,\n",
       "        45112.9761466 ,  44451.63671503, 172564.60289771,  84887.12147791,\n",
       "        43759.11685331,  44742.69776443,  45230.68995996,  44660.30090354,\n",
       "        58068.92868748,  59561.53645249,  45278.68312061,  46805.97449444,\n",
       "        44860.05819911,  44939.02158206,  46448.53863944,  43517.68863892,\n",
       "        45736.6896027 , 184320.26853202,  45992.33404401,  45829.41301057,\n",
       "        46067.7557793 ,  45678.04651376,  44266.94844913,  45766.58881107,\n",
       "        63674.21401177,  56664.74946474,  57449.36424359,  45137.90035156,\n",
       "        43276.04881494,  46760.68193506,  43809.36328691,  44553.09380014,\n",
       "        45638.72238291,  45610.32502322,  44412.70464497,  89200.53288545,\n",
       "        45018.70525828,  45036.34547375,  44924.87536762,  44844.89588822,\n",
       "        44633.64775624,  58830.76889341,  44477.1903948 ,  44925.61745712,\n",
       "        46784.75754104,  44940.81524753,  46051.40461632,  45765.82449285,\n",
       "        63477.75691156,  45344.36614516,  44387.25752602,  44384.52727756,\n",
       "        45969.90693418,  42617.56029348,  45172.74801082,  45001.41899223,\n",
       "        45368.43375283,  45144.68395491,  45084.38662952,  44605.62691536,\n",
       "        58597.38744073,  43657.53503467,  60103.43568962,  44401.49132313,\n",
       "        45921.88359812,  44729.60950132,  45419.45219231,  63322.12276201,\n",
       "        44523.07350613,  45769.75640329,  87176.54661219,  45501.50946789,\n",
       "        45772.16231548,  43417.1153368 ,  45503.28303175,  45200.87452456,\n",
       "        47047.03769625,  45136.20748105,  45408.51990025,  45048.72279679,\n",
       "        61227.49709263,  89873.98703324,  44576.42511755,  44867.1374884 ,\n",
       "        44638.63031362,  44580.55458469, 263753.56773634,  58805.82702686,\n",
       "        44799.73844841,  88958.28645132,  45902.21908599,  44847.07184651,\n",
       "        44854.30524412,  44135.43331205,  62682.57398912,  45518.02671717,\n",
       "       246523.93301917, 129107.92667713,  44272.21770293,  43677.9840119 ,\n",
       "        46758.97417399,  44487.70976109,  44703.49383694,  44061.85779851,\n",
       "        44808.08047222,  43743.58716267,  44150.85903316,  61968.21566964,\n",
       "       131622.20980519, 129508.485443  ,  45098.23909096,  45628.71086183,\n",
       "        45702.66350863,  44139.13900715,  59707.67011905,  45155.83799274,\n",
       "        46266.14568727,  57451.34670635,  43794.16835426,  44090.46392449,\n",
       "        59707.67011905,  45185.98936593,  44160.37728427,  45504.11048076,\n",
       "        46493.71863059,  44489.80729708,  59556.34138251,  45628.75167424,\n",
       "        59459.72323951,  43941.72788276,  44328.81355264,  45991.60913151,\n",
       "        44813.08968008,  43677.14817051,  45573.61228932,  45812.90944347,\n",
       "        45443.56690521,  44586.72171434,  44210.21956691,  59679.09028358,\n",
       "        44329.03122494,  46376.95561144,  60482.14535845,  44724.83958122,\n",
       "        64263.92685362,  44993.87734596, 131423.23242641,  45682.60314269,\n",
       "        44798.95813484,  43346.54748591,  44139.48355334,  85469.97016586,\n",
       "        45137.90628772,  44685.9945817 ,  45353.5911178 ,  44471.91714513,\n",
       "        45605.19460786, 170770.87363978,  45218.5101352 ,  44223.5829881 ,\n",
       "        45528.12617677,  43868.3839267 ,  61174.79420807, 133766.37777706,\n",
       "        59399.72017668,  58841.54415664,  45457.34300478,  44103.99679074,\n",
       "        87341.09132431,  43742.07659011,  43118.25698562, 134252.70447006,\n",
       "        45368.1243956 , 170376.34692441,  59556.34138251,  43659.05228288,\n",
       "        44556.25380961,  44284.65878433,  44718.02539383,  87975.09768573,\n",
       "        45333.02609874,  44508.53539538,  62881.31004018,  44549.87705805,\n",
       "        62980.72577397,  45832.19154795,  44426.83150941,  45185.84613167,\n",
       "        43607.00855306,  46358.05481777,  44112.73213961,  43630.43688672,\n",
       "        45459.61563462,  58805.85300855,  45509.26403605,  45534.6541895 ,\n",
       "        45922.16551768,  46008.69163311,  44812.62160284,  45255.56406495,\n",
       "        44810.50790693,  46438.70794686,  43793.61326715,  59743.56036996,\n",
       "        45058.03013525,  44847.21451596,  45105.21179629,  44424.60916237,\n",
       "       168375.39336364,  44898.18827073,  44649.50969481,  46275.71847085,\n",
       "        44392.20603891,  44797.80230142,  57452.45211877,  46006.67619095,\n",
       "        92652.6189624 ,  45073.71030985,  56286.49943074,  44829.96687531,\n",
       "       169207.10813203, 122541.65318606,  43911.75154329,  55406.7718512 ,\n",
       "        44247.4486323 ,  45373.20455483,  45246.88347752,  45109.87400247,\n",
       "        44686.27260227,  44616.49560059,  46603.37416794,  45227.88411499,\n",
       "        43605.63845133,  44335.28098252,  44680.12642405,  44854.32107287,\n",
       "        44403.43941189,  57421.50416578,  60297.80537535,  55915.26762845,\n",
       "        43779.19843994,  44210.6472684 ,  47555.27570554,  43806.03126006,\n",
       "       179836.08402345,  59940.39577273,  45585.19628788,  44559.5925815 ,\n",
       "        87965.22716955,  45571.1232056 , 177382.12643795,  45808.54461493,\n",
       "        45782.76622367,  45238.75209151,  42937.5923474 , 119773.0448005 ,\n",
       "        44835.65419449,  44117.84606277,  44205.1124531 ,  45609.3379914 ,\n",
       "        88960.69369317,  59904.52568124,  44892.00296798,  44663.59695762,\n",
       "        44113.38783333,  45583.543443  ,  44544.51490686,  44322.52619476,\n",
       "        45692.80281826,  43948.51707545,  92107.89939771,  44902.03366198,\n",
       "       171899.90602325,  60131.40139508,  88892.00819386, 123511.05817785,\n",
       "        44191.00961028,  44925.61745712,  44410.18913268,  43983.45918329,\n",
       "        46316.29207909,  45141.22085406,  93233.53464913,  43523.82341306,\n",
       "        45846.09355397,  45250.06949207,  43956.47357018,  56607.28357884,\n",
       "        44732.03500072,  46052.16965021,  44699.07058478,  61368.33098599,\n",
       "        44790.94267734,  44891.99992713,  45643.02417605,  46429.02826508,\n",
       "        43603.99288892,  46019.52555231,  59696.5486592 ,  43913.75590949,\n",
       "        59205.30244228,  45196.16243389,  45199.53287696,  45379.28353943,\n",
       "        43682.90886424,  44683.90837132,  60043.86728752,  44969.410557  ,\n",
       "        44885.20949256,  44937.48409572,  43980.96143782,  44383.20639948,\n",
       "        57435.50815711,  46106.66011383,  45026.17823274,  44615.57227201,\n",
       "        44479.5508875 ,  45431.65698182,  43713.7493189 ,  45468.21690881,\n",
       "        44875.46357288,  60059.65819913,  60054.87164105,  45266.46218898,\n",
       "       299615.71529099,  45255.31723772,  45059.54094444,  45102.50668116,\n",
       "        44151.49364158,  45673.55440251,  45984.5818549 ,  45368.11131926,\n",
       "        45036.29539943,  45214.40358196,  45324.58606061,  44636.68843907,\n",
       "        58461.00013298,  59827.83940054,  44279.86715548,  44011.10191886,\n",
       "        45795.92631404,  44218.99810066,  58396.12488422, 111668.61490693,\n",
       "        45100.1084813 ,  43144.32186328,  45758.35432666,  44991.32767981,\n",
       "        45330.06676807, 111873.1660974 ,  45740.16183532,  60465.15865296,\n",
       "        44610.36064542,  45481.93362662,  44342.39130083,  45147.84078186,\n",
       "        44754.2281188 ,  44245.83039383,  44898.93059677,  45569.22091708,\n",
       "        44298.28232415, 132233.01816595,  44281.94083772, 125739.79523918,\n",
       "        56287.43391094,  44329.99364368,  44754.19099064,  45238.77499598,\n",
       "        43693.14649423,  45696.68399289,  45313.47630516,  45935.92599773,\n",
       "        44794.79611415, 173767.93278877,  43834.65163799,  44082.57584961,\n",
       "        44334.52602933,  44982.46350228,  45427.39861686,  44828.00903313,\n",
       "        44626.92733874,  45403.5308747 ,  45628.75167424,  44213.72340121,\n",
       "        43795.29858867,  44767.34096545,  44215.90181817,  44068.62262806,\n",
       "       121724.14610534,  60498.109223  ,  44203.17172306,  45533.62246936,\n",
       "        44920.60615931,  57116.49163062,  59942.79261505,  44168.61753227,\n",
       "        46499.42999414,  86869.7491834 ,  45110.66847727,  44522.52930381,\n",
       "        59950.64394919,  44534.1069488 ,  46711.85482498,  44804.44954731,\n",
       "        44411.39508839,  45590.40596148,  46002.58386497,  86984.14710498,\n",
       "        44268.64121089,  46053.20126346,  57618.59028743,  44543.55016692,\n",
       "        45317.54920743,  44852.83170733,  44991.51767802,  43959.71980866,\n",
       "        44656.07306194,  46113.87731627,  46181.3722958 ,  46228.21956886,\n",
       "        58403.80161244,  62015.45658766,  62387.95376909,  44768.04779562,\n",
       "        46474.16719888,  45491.12167793,  44648.59616868,  46992.83545585,\n",
       "        44857.62466053,  87721.1564697 ,  61647.50040584,  59721.47234256,\n",
       "        45701.28470183,  45789.39497697,  44927.09031566,  45682.19673377,\n",
       "        45949.5514345 ,  45585.19628788,  44371.59181191,  43732.88021626,\n",
       "        45228.92580747,  45766.45165754,  46006.12351774,  45073.36299394,\n",
       "        43466.03133297,  43440.45251894,  63609.21361633,  60626.55342696,\n",
       "        44544.37433635,  45173.04307206,  46957.90455184,  46113.87731627,\n",
       "        44062.12222913,  43823.16915004,  45266.0963179 ,  60021.43236291,\n",
       "        44812.93099459,  45916.03038622,  45364.22194186,  45945.23846807,\n",
       "        46141.45919042,  45198.70000857,  59932.66215693,  46018.16679794,\n",
       "       131379.00734885,  43792.66078772,  46655.14075382, 116129.46975028,\n",
       "        56478.8571342 ,  88390.67854348, 308706.3503618 ,  44062.86302886,\n",
       "        45124.31267116,  86032.29820155,  45641.11590673,  46610.93300264,\n",
       "        46870.57389072,  45203.23790909, 128134.59281674, 182326.40662329,\n",
       "        45587.37265145,  82916.84431036,  46575.89118393,  60564.94395546,\n",
       "       110435.56792777,  45374.34895166,  62037.78849206,  45338.20230181,\n",
       "        45319.07745484,  45541.76348829,  44034.2484982 ,  59170.98217585,\n",
       "        44437.41692704,  45929.1640906 ,  44724.07061719,  43903.82199279,\n",
       "        45829.41301057,  45355.21494164,  60357.40518651,  44551.57847305,\n",
       "        44877.36989506,  45203.27691877,  59904.52568124,  89265.54374986,\n",
       "        46043.98925325,  58527.49235154,  45968.7522457 ,  44559.65976349,\n",
       "       281508.89281358,  46912.74047256,  46032.36490585,  44694.18472827,\n",
       "       117613.6737381 ,  45056.80123701,  44629.83170541,  45234.53496048,\n",
       "        45271.10081985,  44936.83231913,  45588.54248052,  45075.04873947,\n",
       "        44784.22812576,  58737.11510065, 178312.92587085,  44557.52076716,\n",
       "       186302.54996262,  44452.70351032,  45124.10743107,  46007.03650517,\n",
       "        57489.73384704,  45092.626968  ,  45290.18004493,  45672.29191264,\n",
       "        44479.90777128,  44602.06888115,  46346.35261311,  44791.15250343,\n",
       "        47100.36760892,  45089.05499456,  45900.32367935,  45981.58666389,\n",
       "        44401.83004805,  83931.2092621 , 188083.46426962,  45281.3169285 ,\n",
       "        43859.8430603 ,  44464.15099881,  45036.31924297,  44813.08968008,\n",
       "        44740.80727786,  44662.51551199,  45947.43140458, 130054.73364899,\n",
       "        44889.81734091,  56259.65291692,  44413.12967271,  45478.44312831,\n",
       "        44377.79568146,  45709.34043379,  44908.62199634,  44387.25752602,\n",
       "        45099.90194529,  46126.77912066,  45050.64484158,  45831.82744019,\n",
       "        45142.5993547 ,  46342.2085452 ,  44943.57751084,  87193.19543484,\n",
       "        46672.46208724, 127231.88829076,  45789.60156529,  43842.36977359,\n",
       "        43423.67295604,  45898.53423593,  44580.81669387,  45170.65249567,\n",
       "        45213.00991336,  45850.59091436])"
      ]
     },
     "execution_count": 68,
     "metadata": {},
     "output_type": "execute_result"
    }
   ],
   "source": [
    "y_pred2=best_model.predict(X_test)\n",
    "y_pred2"
   ]
  },
  {
   "cell_type": "code",
   "execution_count": 69,
   "id": "a1dc9b7c",
   "metadata": {},
   "outputs": [
    {
     "data": {
      "text/plain": [
       "52190218.54003896"
      ]
     },
     "execution_count": 69,
     "metadata": {},
     "output_type": "execute_result"
    }
   ],
   "source": [
    "mse1=mean_squared_error(y_test,y_pred2)\n",
    "mse1"
   ]
  },
  {
   "cell_type": "code",
   "execution_count": 70,
   "id": "23b935f4",
   "metadata": {},
   "outputs": [
    {
     "data": {
      "text/plain": [
       "0.9575693507152307"
      ]
     },
     "execution_count": 70,
     "metadata": {},
     "output_type": "execute_result"
    }
   ],
   "source": [
    "acc_score2=r2_score(y_test,y_pred2)\n",
    "acc_score2"
   ]
  },
  {
   "cell_type": "markdown",
   "id": "7b17e4ec",
   "metadata": {},
   "source": [
    "### Gradient Boosting"
   ]
  },
  {
   "cell_type": "code",
   "execution_count": 71,
   "id": "769a0481",
   "metadata": {},
   "outputs": [],
   "source": [
    "from sklearn.ensemble import GradientBoostingRegressor\n",
    "gbr = GradientBoostingRegressor()\n"
   ]
  },
  {
   "cell_type": "code",
   "execution_count": 72,
   "id": "41bb08ca",
   "metadata": {},
   "outputs": [],
   "source": [
    "paramters={\n",
    "         'loss':['squared_error','absolute_error'],\n",
    "         'max_depth':[3,4,6,8,10,20,12,16,18],\n",
    "         'min_samples_split':[3,2,5,7,8,9,10,13,12],\n",
    "         'learning_rate':[0.1,0.01,0.001]\n",
    "}"
   ]
  },
  {
   "cell_type": "code",
   "execution_count": 73,
   "id": "a44f9ab0",
   "metadata": {},
   "outputs": [
    {
     "data": {
      "text/html": [
       "<style>#sk-container-id-7 {color: black;}#sk-container-id-7 pre{padding: 0;}#sk-container-id-7 div.sk-toggleable {background-color: white;}#sk-container-id-7 label.sk-toggleable__label {cursor: pointer;display: block;width: 100%;margin-bottom: 0;padding: 0.3em;box-sizing: border-box;text-align: center;}#sk-container-id-7 label.sk-toggleable__label-arrow:before {content: \"▸\";float: left;margin-right: 0.25em;color: #696969;}#sk-container-id-7 label.sk-toggleable__label-arrow:hover:before {color: black;}#sk-container-id-7 div.sk-estimator:hover label.sk-toggleable__label-arrow:before {color: black;}#sk-container-id-7 div.sk-toggleable__content {max-height: 0;max-width: 0;overflow: hidden;text-align: left;background-color: #f0f8ff;}#sk-container-id-7 div.sk-toggleable__content pre {margin: 0.2em;color: black;border-radius: 0.25em;background-color: #f0f8ff;}#sk-container-id-7 input.sk-toggleable__control:checked~div.sk-toggleable__content {max-height: 200px;max-width: 100%;overflow: auto;}#sk-container-id-7 input.sk-toggleable__control:checked~label.sk-toggleable__label-arrow:before {content: \"▾\";}#sk-container-id-7 div.sk-estimator input.sk-toggleable__control:checked~label.sk-toggleable__label {background-color: #d4ebff;}#sk-container-id-7 div.sk-label input.sk-toggleable__control:checked~label.sk-toggleable__label {background-color: #d4ebff;}#sk-container-id-7 input.sk-hidden--visually {border: 0;clip: rect(1px 1px 1px 1px);clip: rect(1px, 1px, 1px, 1px);height: 1px;margin: -1px;overflow: hidden;padding: 0;position: absolute;width: 1px;}#sk-container-id-7 div.sk-estimator {font-family: monospace;background-color: #f0f8ff;border: 1px dotted black;border-radius: 0.25em;box-sizing: border-box;margin-bottom: 0.5em;}#sk-container-id-7 div.sk-estimator:hover {background-color: #d4ebff;}#sk-container-id-7 div.sk-parallel-item::after {content: \"\";width: 100%;border-bottom: 1px solid gray;flex-grow: 1;}#sk-container-id-7 div.sk-label:hover label.sk-toggleable__label {background-color: #d4ebff;}#sk-container-id-7 div.sk-serial::before {content: \"\";position: absolute;border-left: 1px solid gray;box-sizing: border-box;top: 0;bottom: 0;left: 50%;z-index: 0;}#sk-container-id-7 div.sk-serial {display: flex;flex-direction: column;align-items: center;background-color: white;padding-right: 0.2em;padding-left: 0.2em;position: relative;}#sk-container-id-7 div.sk-item {position: relative;z-index: 1;}#sk-container-id-7 div.sk-parallel {display: flex;align-items: stretch;justify-content: center;background-color: white;position: relative;}#sk-container-id-7 div.sk-item::before, #sk-container-id-7 div.sk-parallel-item::before {content: \"\";position: absolute;border-left: 1px solid gray;box-sizing: border-box;top: 0;bottom: 0;left: 50%;z-index: -1;}#sk-container-id-7 div.sk-parallel-item {display: flex;flex-direction: column;z-index: 1;position: relative;background-color: white;}#sk-container-id-7 div.sk-parallel-item:first-child::after {align-self: flex-end;width: 50%;}#sk-container-id-7 div.sk-parallel-item:last-child::after {align-self: flex-start;width: 50%;}#sk-container-id-7 div.sk-parallel-item:only-child::after {width: 0;}#sk-container-id-7 div.sk-dashed-wrapped {border: 1px dashed gray;margin: 0 0.4em 0.5em 0.4em;box-sizing: border-box;padding-bottom: 0.4em;background-color: white;}#sk-container-id-7 div.sk-label label {font-family: monospace;font-weight: bold;display: inline-block;line-height: 1.2em;}#sk-container-id-7 div.sk-label-container {text-align: center;}#sk-container-id-7 div.sk-container {/* jupyter's `normalize.less` sets `[hidden] { display: none; }` but bootstrap.min.css set `[hidden] { display: none !important; }` so we also need the `!important` here to be able to override the default hidden behavior on the sphinx rendered scikit-learn.org. See: https://github.com/scikit-learn/scikit-learn/issues/21755 */display: inline-block !important;position: relative;}#sk-container-id-7 div.sk-text-repr-fallback {display: none;}</style><div id=\"sk-container-id-7\" class=\"sk-top-container\"><div class=\"sk-text-repr-fallback\"><pre>RandomizedSearchCV(cv=5, estimator=GradientBoostingRegressor(),\n",
       "                   param_distributions={&#x27;learning_rate&#x27;: [0.1, 0.01, 0.001],\n",
       "                                        &#x27;loss&#x27;: [&#x27;squared_error&#x27;,\n",
       "                                                 &#x27;absolute_error&#x27;],\n",
       "                                        &#x27;max_depth&#x27;: [3, 4, 6, 8, 10, 20, 12,\n",
       "                                                      16, 18],\n",
       "                                        &#x27;min_samples_split&#x27;: [3, 2, 5, 7, 8, 9,\n",
       "                                                              10, 13, 12]},\n",
       "                   scoring=&#x27;neg_mean_squared_error&#x27;)</pre><b>In a Jupyter environment, please rerun this cell to show the HTML representation or trust the notebook. <br />On GitHub, the HTML representation is unable to render, please try loading this page with nbviewer.org.</b></div><div class=\"sk-container\" hidden><div class=\"sk-item sk-dashed-wrapped\"><div class=\"sk-label-container\"><div class=\"sk-label sk-toggleable\"><input class=\"sk-toggleable__control sk-hidden--visually\" id=\"sk-estimator-id-13\" type=\"checkbox\" ><label for=\"sk-estimator-id-13\" class=\"sk-toggleable__label sk-toggleable__label-arrow\">RandomizedSearchCV</label><div class=\"sk-toggleable__content\"><pre>RandomizedSearchCV(cv=5, estimator=GradientBoostingRegressor(),\n",
       "                   param_distributions={&#x27;learning_rate&#x27;: [0.1, 0.01, 0.001],\n",
       "                                        &#x27;loss&#x27;: [&#x27;squared_error&#x27;,\n",
       "                                                 &#x27;absolute_error&#x27;],\n",
       "                                        &#x27;max_depth&#x27;: [3, 4, 6, 8, 10, 20, 12,\n",
       "                                                      16, 18],\n",
       "                                        &#x27;min_samples_split&#x27;: [3, 2, 5, 7, 8, 9,\n",
       "                                                              10, 13, 12]},\n",
       "                   scoring=&#x27;neg_mean_squared_error&#x27;)</pre></div></div></div><div class=\"sk-parallel\"><div class=\"sk-parallel-item\"><div class=\"sk-item\"><div class=\"sk-label-container\"><div class=\"sk-label sk-toggleable\"><input class=\"sk-toggleable__control sk-hidden--visually\" id=\"sk-estimator-id-14\" type=\"checkbox\" ><label for=\"sk-estimator-id-14\" class=\"sk-toggleable__label sk-toggleable__label-arrow\">estimator: GradientBoostingRegressor</label><div class=\"sk-toggleable__content\"><pre>GradientBoostingRegressor()</pre></div></div></div><div class=\"sk-serial\"><div class=\"sk-item\"><div class=\"sk-estimator sk-toggleable\"><input class=\"sk-toggleable__control sk-hidden--visually\" id=\"sk-estimator-id-15\" type=\"checkbox\" ><label for=\"sk-estimator-id-15\" class=\"sk-toggleable__label sk-toggleable__label-arrow\">GradientBoostingRegressor</label><div class=\"sk-toggleable__content\"><pre>GradientBoostingRegressor()</pre></div></div></div></div></div></div></div></div></div></div>"
      ],
      "text/plain": [
       "RandomizedSearchCV(cv=5, estimator=GradientBoostingRegressor(),\n",
       "                   param_distributions={'learning_rate': [0.1, 0.01, 0.001],\n",
       "                                        'loss': ['squared_error',\n",
       "                                                 'absolute_error'],\n",
       "                                        'max_depth': [3, 4, 6, 8, 10, 20, 12,\n",
       "                                                      16, 18],\n",
       "                                        'min_samples_split': [3, 2, 5, 7, 8, 9,\n",
       "                                                              10, 13, 12]},\n",
       "                   scoring='neg_mean_squared_error')"
      ]
     },
     "execution_count": 73,
     "metadata": {},
     "output_type": "execute_result"
    }
   ],
   "source": [
    "g_search = RandomizedSearchCV(estimator=gbr, param_distributions=paramters, cv=5, scoring='neg_mean_squared_error')\n",
    "g_search.fit(X_train, y_train)"
   ]
  },
  {
   "cell_type": "code",
   "execution_count": 74,
   "id": "38ea2327",
   "metadata": {},
   "outputs": [],
   "source": [
    "best_para = g_search.best_params_\n",
    "best_learning_rate=best_para['learning_rate']\n",
    "best_max_dept=best_para['max_depth']\n",
    "best_min_sample_split=best_para['min_samples_split']\n",
    "best_loss=best_para['loss']"
   ]
  },
  {
   "cell_type": "code",
   "execution_count": 75,
   "id": "fcf3d831",
   "metadata": {},
   "outputs": [
    {
     "name": "stdout",
     "output_type": "stream",
     "text": [
      "0.1\n",
      "12\n",
      "squared_error\n",
      "7\n"
     ]
    }
   ],
   "source": [
    "print(best_learning_rate)\n",
    "print(best_max_dept)\n",
    "print(best_loss)\n",
    "print(best_min_sample_split)"
   ]
  },
  {
   "cell_type": "code",
   "execution_count": 76,
   "id": "b178baad",
   "metadata": {},
   "outputs": [
    {
     "data": {
      "text/html": [
       "<style>#sk-container-id-8 {color: black;}#sk-container-id-8 pre{padding: 0;}#sk-container-id-8 div.sk-toggleable {background-color: white;}#sk-container-id-8 label.sk-toggleable__label {cursor: pointer;display: block;width: 100%;margin-bottom: 0;padding: 0.3em;box-sizing: border-box;text-align: center;}#sk-container-id-8 label.sk-toggleable__label-arrow:before {content: \"▸\";float: left;margin-right: 0.25em;color: #696969;}#sk-container-id-8 label.sk-toggleable__label-arrow:hover:before {color: black;}#sk-container-id-8 div.sk-estimator:hover label.sk-toggleable__label-arrow:before {color: black;}#sk-container-id-8 div.sk-toggleable__content {max-height: 0;max-width: 0;overflow: hidden;text-align: left;background-color: #f0f8ff;}#sk-container-id-8 div.sk-toggleable__content pre {margin: 0.2em;color: black;border-radius: 0.25em;background-color: #f0f8ff;}#sk-container-id-8 input.sk-toggleable__control:checked~div.sk-toggleable__content {max-height: 200px;max-width: 100%;overflow: auto;}#sk-container-id-8 input.sk-toggleable__control:checked~label.sk-toggleable__label-arrow:before {content: \"▾\";}#sk-container-id-8 div.sk-estimator input.sk-toggleable__control:checked~label.sk-toggleable__label {background-color: #d4ebff;}#sk-container-id-8 div.sk-label input.sk-toggleable__control:checked~label.sk-toggleable__label {background-color: #d4ebff;}#sk-container-id-8 input.sk-hidden--visually {border: 0;clip: rect(1px 1px 1px 1px);clip: rect(1px, 1px, 1px, 1px);height: 1px;margin: -1px;overflow: hidden;padding: 0;position: absolute;width: 1px;}#sk-container-id-8 div.sk-estimator {font-family: monospace;background-color: #f0f8ff;border: 1px dotted black;border-radius: 0.25em;box-sizing: border-box;margin-bottom: 0.5em;}#sk-container-id-8 div.sk-estimator:hover {background-color: #d4ebff;}#sk-container-id-8 div.sk-parallel-item::after {content: \"\";width: 100%;border-bottom: 1px solid gray;flex-grow: 1;}#sk-container-id-8 div.sk-label:hover label.sk-toggleable__label {background-color: #d4ebff;}#sk-container-id-8 div.sk-serial::before {content: \"\";position: absolute;border-left: 1px solid gray;box-sizing: border-box;top: 0;bottom: 0;left: 50%;z-index: 0;}#sk-container-id-8 div.sk-serial {display: flex;flex-direction: column;align-items: center;background-color: white;padding-right: 0.2em;padding-left: 0.2em;position: relative;}#sk-container-id-8 div.sk-item {position: relative;z-index: 1;}#sk-container-id-8 div.sk-parallel {display: flex;align-items: stretch;justify-content: center;background-color: white;position: relative;}#sk-container-id-8 div.sk-item::before, #sk-container-id-8 div.sk-parallel-item::before {content: \"\";position: absolute;border-left: 1px solid gray;box-sizing: border-box;top: 0;bottom: 0;left: 50%;z-index: -1;}#sk-container-id-8 div.sk-parallel-item {display: flex;flex-direction: column;z-index: 1;position: relative;background-color: white;}#sk-container-id-8 div.sk-parallel-item:first-child::after {align-self: flex-end;width: 50%;}#sk-container-id-8 div.sk-parallel-item:last-child::after {align-self: flex-start;width: 50%;}#sk-container-id-8 div.sk-parallel-item:only-child::after {width: 0;}#sk-container-id-8 div.sk-dashed-wrapped {border: 1px dashed gray;margin: 0 0.4em 0.5em 0.4em;box-sizing: border-box;padding-bottom: 0.4em;background-color: white;}#sk-container-id-8 div.sk-label label {font-family: monospace;font-weight: bold;display: inline-block;line-height: 1.2em;}#sk-container-id-8 div.sk-label-container {text-align: center;}#sk-container-id-8 div.sk-container {/* jupyter's `normalize.less` sets `[hidden] { display: none; }` but bootstrap.min.css set `[hidden] { display: none !important; }` so we also need the `!important` here to be able to override the default hidden behavior on the sphinx rendered scikit-learn.org. See: https://github.com/scikit-learn/scikit-learn/issues/21755 */display: inline-block !important;position: relative;}#sk-container-id-8 div.sk-text-repr-fallback {display: none;}</style><div id=\"sk-container-id-8\" class=\"sk-top-container\"><div class=\"sk-text-repr-fallback\"><pre>GradientBoostingRegressor(max_depth=12, min_samples_split=7)</pre><b>In a Jupyter environment, please rerun this cell to show the HTML representation or trust the notebook. <br />On GitHub, the HTML representation is unable to render, please try loading this page with nbviewer.org.</b></div><div class=\"sk-container\" hidden><div class=\"sk-item\"><div class=\"sk-estimator sk-toggleable\"><input class=\"sk-toggleable__control sk-hidden--visually\" id=\"sk-estimator-id-16\" type=\"checkbox\" checked><label for=\"sk-estimator-id-16\" class=\"sk-toggleable__label sk-toggleable__label-arrow\">GradientBoostingRegressor</label><div class=\"sk-toggleable__content\"><pre>GradientBoostingRegressor(max_depth=12, min_samples_split=7)</pre></div></div></div></div></div>"
      ],
      "text/plain": [
       "GradientBoostingRegressor(max_depth=12, min_samples_split=7)"
      ]
     },
     "execution_count": 76,
     "metadata": {},
     "output_type": "execute_result"
    }
   ],
   "source": [
    "good_model=GradientBoostingRegressor(learning_rate=best_learning_rate,loss=best_loss,max_depth=best_max_dept,min_samples_split=best_min_sample_split)\n",
    "good_model.fit(X_train,y_train)"
   ]
  },
  {
   "cell_type": "code",
   "execution_count": 77,
   "id": "67817c6d",
   "metadata": {},
   "outputs": [],
   "source": [
    "y_pred3 = good_model.predict(X_test)"
   ]
  },
  {
   "cell_type": "code",
   "execution_count": 78,
   "id": "326073c4",
   "metadata": {},
   "outputs": [
    {
     "data": {
      "text/plain": [
       "54190192.60767933"
      ]
     },
     "execution_count": 78,
     "metadata": {},
     "output_type": "execute_result"
    }
   ],
   "source": [
    "mse2=mean_squared_error(y_test,y_pred3)\n",
    "mse2"
   ]
  },
  {
   "cell_type": "code",
   "execution_count": 79,
   "id": "c82eaffc",
   "metadata": {},
   "outputs": [
    {
     "data": {
      "text/plain": [
       "0.9559433717364767"
      ]
     },
     "execution_count": 79,
     "metadata": {},
     "output_type": "execute_result"
    }
   ],
   "source": [
    "acc_score3 = r2_score(y_test,y_pred3)\n",
    "acc_score3"
   ]
  },
  {
   "cell_type": "markdown",
   "id": "735b3eba",
   "metadata": {},
   "source": [
    "## compare all the models by graph"
   ]
  },
  {
   "cell_type": "code",
   "execution_count": 80,
   "id": "f1e8f705",
   "metadata": {},
   "outputs": [
    {
     "name": "stderr",
     "output_type": "stream",
     "text": [
      "C:\\Users\\PC\\AppData\\Local\\Programs\\Python\\Python310\\lib\\site-packages\\seaborn\\_oldcore.py:1498: FutureWarning: is_categorical_dtype is deprecated and will be removed in a future version. Use isinstance(dtype, CategoricalDtype) instead\n",
      "  if pd.api.types.is_categorical_dtype(vector):\n",
      "C:\\Users\\PC\\AppData\\Local\\Programs\\Python\\Python310\\lib\\site-packages\\seaborn\\_oldcore.py:1498: FutureWarning: is_categorical_dtype is deprecated and will be removed in a future version. Use isinstance(dtype, CategoricalDtype) instead\n",
      "  if pd.api.types.is_categorical_dtype(vector):\n",
      "C:\\Users\\PC\\AppData\\Local\\Programs\\Python\\Python310\\lib\\site-packages\\seaborn\\_oldcore.py:1765: FutureWarning: unique with argument that is not not a Series, Index, ExtensionArray, or np.ndarray is deprecated and will raise in a future version.\n",
      "  order = pd.unique(vector)\n",
      "C:\\Users\\PC\\AppData\\Local\\Programs\\Python\\Python310\\lib\\site-packages\\seaborn\\_oldcore.py:1498: FutureWarning: is_categorical_dtype is deprecated and will be removed in a future version. Use isinstance(dtype, CategoricalDtype) instead\n",
      "  if pd.api.types.is_categorical_dtype(vector):\n"
     ]
    },
    {
     "data": {
      "image/png": "[encoded data removed]",
      "text/plain": [
       "<Figure size 2200x800 with 1 Axes>"
      ]
     },
     "metadata": {},
     "output_type": "display_data"
    }
   ],
   "source": [
    "mylist=[]\n",
    "mylist2=[]\n",
    "mylist.append(acc_score)\n",
    "mylist2.append(\"Linear Regression\")\n",
    "mylist.append(acc_score1)\n",
    "mylist2.append(\"Descion Tree\")\n",
    "mylist.append(acc_score2)\n",
    "mylist2.append(\"Random Forest\")\n",
    "mylist.append(acc_score3)\n",
    "mylist2.append(\"Gradient Bosting\")\n",
    "\n",
    "plt.rcParams['figure.figsize']=8,6\n",
    "sns.set_style(\"darkgrid\")\n",
    "plt.figure(figsize=(22,8))\n",
    "ax = sns.barplot(x=mylist2, y=mylist)\n",
    "plt.xlabel(\"REGRESSIONS Models\", fontsize = 20 )\n",
    "plt.ylabel(\"Accuracy\", fontsize = 20)\n",
    "plt.title(\"Accuracy of different Regressions Models\", fontsize = 20)\n",
    "plt.xticks(fontsize = 11, horizontalalignment = 'center', rotation = 8)\n",
    "plt.yticks(fontsize = 13)\n",
    "for p in ax.patches:\n",
    "    width, height = p.get_width(), p.get_height()\n",
    "    x, y = p.get_xy() \n",
    "    ax.annotate( f'{height:.2%}',(x + width/2, y + height*1.02) , ha='center',fontsize = 'x-large')\n",
    "\n",
    "plt.show()\n"
   ]
  },
  {
   "cell_type": "markdown",
   "id": "6cadd7af",
   "metadata": {},
   "source": [
    "# Making pickle file"
   ]
  },
  {
   "cell_type": "code",
   "execution_count": 81,
   "id": "d34904ce",
   "metadata": {},
   "outputs": [],
   "source": [
    "import pickle"
   ]
  },
  {
   "cell_type": "code",
   "execution_count": 82,
   "id": "aefe1eb5",
   "metadata": {},
   "outputs": [],
   "source": [
    "pickle.dump(sc,open(\"scaler.pickle\",\"wb\"))\n",
    "ssc=pickle.load(open(\"scaler.pickle\",\"rb\"))\n",
    "pickle.dump(best_model,open(\"random_forest.pkl\",\"wb\"))\n",
    "model=pickle.load(open(\"random_forest.pkl\",\"rb\"))"
   ]
  },
  {
   "cell_type": "code",
   "execution_count": null,
   "id": "b28ef8a4",
   "metadata": {},
   "outputs": [],
   "source": []
  }
 ],
 "metadata": {
  "kernelspec": {
   "display_name": "Python 3",
   "language": "python",
   "name": "python3"
  },
  "language_info": {
   "codemirror_mode": {
    "name": "ipython",
    "version": 3
   },
   "file_extension": ".py",
   "mimetype": "text/x-python",
   "name": "python",
   "nbconvert_exporter": "python",
   "pygments_lexer": "ipython3",
   "version": "3.12.8"
  }
 },
 "nbformat": 4,
 "nbformat_minor": 5
}
